{
 "cells": [
  {
   "cell_type": "markdown",
   "id": "dca435c2-4808-4548-bd41-3f39f04e6df4",
   "metadata": {},
   "source": [
    "# NumPy\n",
    "\n",
    "### NumPy nos brinda apoyo para el cálculo de vectores y matrices con funciones matemáticas de alto nivel."
   ]
  },
  {
   "cell_type": "code",
   "execution_count": 21,
   "id": "85e0f501-34bc-4bd3-868e-cce97b5e5b34",
   "metadata": {},
   "outputs": [],
   "source": [
    "import numpy as np #Asi se importa NymPy. Se tiene que importar asi antes de usarlo y el \"np\" es el nombre por comvencion osea que le puedes poner el que quieras, en este caso todo lo demas funciona con np. "
   ]
  },
  {
   "cell_type": "markdown",
   "id": "de03d586-baae-4a7f-b355-9c9624ec78c3",
   "metadata": {},
   "source": [
    "# Creando algunos arrays "
   ]
  },
  {
   "cell_type": "code",
   "execution_count": 5,
   "id": "da9ac7ba-39e2-41c5-a217-5e2daa5ec3b5",
   "metadata": {},
   "outputs": [],
   "source": [
    ">>> a = np.array([1,2,3])\n",
    ">>> b = np.array([(1.5,2,3), (4,5,6)], dtype = float)\n",
    ">>> c = np.array([[(1.5,2,3), (4,5,6)],[(3,2,1), (4,5,6)]], dtype = float)"
   ]
  },
  {
   "cell_type": "markdown",
   "id": "0311e57a-3037-4901-ac48-2adfd30856c9",
   "metadata": {},
   "source": [
    "##  Placeholders iniciales "
   ]
  },
  {
   "cell_type": "code",
   "execution_count": 6,
   "id": "1dc80972-d0bc-44b3-95b3-1821be3e0b21",
   "metadata": {},
   "outputs": [
    {
     "data": {
      "text/plain": [
       "array([[1.39069238e-309, 1.39069238e-309],\n",
       "       [1.39069238e-309, 1.39069238e-309],\n",
       "       [1.39069238e-309, 1.39069238e-309]])"
      ]
     },
     "execution_count": 6,
     "metadata": {},
     "output_type": "execute_result"
    }
   ],
   "source": [
    ">>> np.zeros((3,4))                 #Create an array of zeros\n",
    ">>> np.ones((2,3,4),dtype=np.int16) #Create an array of ones\n",
    ">>> d = np.arange(10,25,5)          #Create an array of evenly spaced values (step value)\n",
    ">>> np.linspace(0,2,9)              #Create an array of evenlyspaced values (number of samples)\n",
    ">>> e = np.full((2,2),7)            #Create a constant array\n",
    ">>> f = np.eye(2)                   #Create a 2X2 identity matrix\n",
    ">>> np.random.random((2,2))         #Create an array with random values\n",
    ">>> np.empty((3,2))                 #Create an empty array\n"
   ]
  },
  {
   "cell_type": "markdown",
   "id": "1b7d7c73-f616-43c0-addd-92fd9aed7c10",
   "metadata": {},
   "source": [
    "# I/O\n",
    "\n",
    "## Para guardar y cargarlo en el disco "
   ]
  },
  {
   "cell_type": "code",
   "execution_count": 22,
   "id": "599f861d-5b57-4e76-bf7e-833f20f5f9b9",
   "metadata": {},
   "outputs": [
    {
     "data": {
      "text/plain": [
       "array([1, 2, 3])"
      ]
     },
     "execution_count": 22,
     "metadata": {},
     "output_type": "execute_result"
    }
   ],
   "source": [
    ">>> np.save('my_array' , a)\n",
    ">>> np.savez( 'array.npz', a, b)\n",
    ">>> np.load( 'my_array.npy')"
   ]
  },
  {
   "cell_type": "markdown",
   "id": "2d7de3be-3efd-4085-9280-fb753f87593d",
   "metadata": {},
   "source": [
    "## Para guardar y cargar archivos de texto "
   ]
  },
  {
   "cell_type": "code",
   "execution_count": 23,
   "id": "3337ce15-10cc-4e83-8064-2498dfeb1d9d",
   "metadata": {},
   "outputs": [
    {
     "ename": "OSError",
     "evalue": "myfile.txt not found.",
     "output_type": "error",
     "traceback": [
      "\u001b[1;31m---------------------------------------------------------------------------\u001b[0m",
      "\u001b[1;31mOSError\u001b[0m                                   Traceback (most recent call last)",
      "\u001b[1;32m~\\AppData\\Local\\Temp/ipykernel_8580/2797375750.py\u001b[0m in \u001b[0;36m<module>\u001b[1;34m\u001b[0m\n\u001b[1;32m----> 1\u001b[1;33m \u001b[0mnp\u001b[0m\u001b[1;33m.\u001b[0m\u001b[0mloadtxt\u001b[0m\u001b[1;33m(\u001b[0m\u001b[1;34m\"myfile.txt\"\u001b[0m\u001b[1;33m)\u001b[0m\u001b[1;33m\u001b[0m\u001b[1;33m\u001b[0m\u001b[0m\n\u001b[0m\u001b[0;32m      2\u001b[0m \u001b[0mnp\u001b[0m\u001b[1;33m.\u001b[0m\u001b[0mgenfromtxt\u001b[0m\u001b[1;33m(\u001b[0m\u001b[1;34m\"my_file.csv\"\u001b[0m\u001b[1;33m,\u001b[0m \u001b[0mdelimiter\u001b[0m\u001b[1;33m=\u001b[0m \u001b[1;34m','\u001b[0m\u001b[1;33m)\u001b[0m\u001b[1;33m\u001b[0m\u001b[1;33m\u001b[0m\u001b[0m\n\u001b[0;32m      3\u001b[0m \u001b[0mnp\u001b[0m\u001b[1;33m.\u001b[0m\u001b[0msavetxt\u001b[0m\u001b[1;33m(\u001b[0m \u001b[1;34m\"myarray.txt\"\u001b[0m\u001b[1;33m,\u001b[0m \u001b[0ma\u001b[0m\u001b[1;33m,\u001b[0m \u001b[0mdelimiter\u001b[0m\u001b[1;33m=\u001b[0m \u001b[1;34m\" \"\u001b[0m\u001b[1;33m)\u001b[0m\u001b[1;33m\u001b[0m\u001b[1;33m\u001b[0m\u001b[0m\n",
      "\u001b[1;32mE:\\ANACONDA\\lib\\site-packages\\numpy\\lib\\npyio.py\u001b[0m in \u001b[0;36mloadtxt\u001b[1;34m(fname, dtype, comments, delimiter, converters, skiprows, usecols, unpack, ndmin, encoding, max_rows, like)\u001b[0m\n\u001b[0;32m   1063\u001b[0m             \u001b[0mfname\u001b[0m \u001b[1;33m=\u001b[0m \u001b[0mos_fspath\u001b[0m\u001b[1;33m(\u001b[0m\u001b[0mfname\u001b[0m\u001b[1;33m)\u001b[0m\u001b[1;33m\u001b[0m\u001b[1;33m\u001b[0m\u001b[0m\n\u001b[0;32m   1064\u001b[0m         \u001b[1;32mif\u001b[0m \u001b[0m_is_string_like\u001b[0m\u001b[1;33m(\u001b[0m\u001b[0mfname\u001b[0m\u001b[1;33m)\u001b[0m\u001b[1;33m:\u001b[0m\u001b[1;33m\u001b[0m\u001b[1;33m\u001b[0m\u001b[0m\n\u001b[1;32m-> 1065\u001b[1;33m             \u001b[0mfh\u001b[0m \u001b[1;33m=\u001b[0m \u001b[0mnp\u001b[0m\u001b[1;33m.\u001b[0m\u001b[0mlib\u001b[0m\u001b[1;33m.\u001b[0m\u001b[0m_datasource\u001b[0m\u001b[1;33m.\u001b[0m\u001b[0mopen\u001b[0m\u001b[1;33m(\u001b[0m\u001b[0mfname\u001b[0m\u001b[1;33m,\u001b[0m \u001b[1;34m'rt'\u001b[0m\u001b[1;33m,\u001b[0m \u001b[0mencoding\u001b[0m\u001b[1;33m=\u001b[0m\u001b[0mencoding\u001b[0m\u001b[1;33m)\u001b[0m\u001b[1;33m\u001b[0m\u001b[1;33m\u001b[0m\u001b[0m\n\u001b[0m\u001b[0;32m   1066\u001b[0m             \u001b[0mfencoding\u001b[0m \u001b[1;33m=\u001b[0m \u001b[0mgetattr\u001b[0m\u001b[1;33m(\u001b[0m\u001b[0mfh\u001b[0m\u001b[1;33m,\u001b[0m \u001b[1;34m'encoding'\u001b[0m\u001b[1;33m,\u001b[0m \u001b[1;34m'latin1'\u001b[0m\u001b[1;33m)\u001b[0m\u001b[1;33m\u001b[0m\u001b[1;33m\u001b[0m\u001b[0m\n\u001b[0;32m   1067\u001b[0m             \u001b[0mfh\u001b[0m \u001b[1;33m=\u001b[0m \u001b[0miter\u001b[0m\u001b[1;33m(\u001b[0m\u001b[0mfh\u001b[0m\u001b[1;33m)\u001b[0m\u001b[1;33m\u001b[0m\u001b[1;33m\u001b[0m\u001b[0m\n",
      "\u001b[1;32mE:\\ANACONDA\\lib\\site-packages\\numpy\\lib\\_datasource.py\u001b[0m in \u001b[0;36mopen\u001b[1;34m(path, mode, destpath, encoding, newline)\u001b[0m\n\u001b[0;32m    192\u001b[0m \u001b[1;33m\u001b[0m\u001b[0m\n\u001b[0;32m    193\u001b[0m     \u001b[0mds\u001b[0m \u001b[1;33m=\u001b[0m \u001b[0mDataSource\u001b[0m\u001b[1;33m(\u001b[0m\u001b[0mdestpath\u001b[0m\u001b[1;33m)\u001b[0m\u001b[1;33m\u001b[0m\u001b[1;33m\u001b[0m\u001b[0m\n\u001b[1;32m--> 194\u001b[1;33m     \u001b[1;32mreturn\u001b[0m \u001b[0mds\u001b[0m\u001b[1;33m.\u001b[0m\u001b[0mopen\u001b[0m\u001b[1;33m(\u001b[0m\u001b[0mpath\u001b[0m\u001b[1;33m,\u001b[0m \u001b[0mmode\u001b[0m\u001b[1;33m,\u001b[0m \u001b[0mencoding\u001b[0m\u001b[1;33m=\u001b[0m\u001b[0mencoding\u001b[0m\u001b[1;33m,\u001b[0m \u001b[0mnewline\u001b[0m\u001b[1;33m=\u001b[0m\u001b[0mnewline\u001b[0m\u001b[1;33m)\u001b[0m\u001b[1;33m\u001b[0m\u001b[1;33m\u001b[0m\u001b[0m\n\u001b[0m\u001b[0;32m    195\u001b[0m \u001b[1;33m\u001b[0m\u001b[0m\n\u001b[0;32m    196\u001b[0m \u001b[1;33m\u001b[0m\u001b[0m\n",
      "\u001b[1;32mE:\\ANACONDA\\lib\\site-packages\\numpy\\lib\\_datasource.py\u001b[0m in \u001b[0;36mopen\u001b[1;34m(self, path, mode, encoding, newline)\u001b[0m\n\u001b[0;32m    529\u001b[0m                                       encoding=encoding, newline=newline)\n\u001b[0;32m    530\u001b[0m         \u001b[1;32melse\u001b[0m\u001b[1;33m:\u001b[0m\u001b[1;33m\u001b[0m\u001b[1;33m\u001b[0m\u001b[0m\n\u001b[1;32m--> 531\u001b[1;33m             \u001b[1;32mraise\u001b[0m \u001b[0mIOError\u001b[0m\u001b[1;33m(\u001b[0m\u001b[1;34m\"%s not found.\"\u001b[0m \u001b[1;33m%\u001b[0m \u001b[0mpath\u001b[0m\u001b[1;33m)\u001b[0m\u001b[1;33m\u001b[0m\u001b[1;33m\u001b[0m\u001b[0m\n\u001b[0m\u001b[0;32m    532\u001b[0m \u001b[1;33m\u001b[0m\u001b[0m\n\u001b[0;32m    533\u001b[0m \u001b[1;33m\u001b[0m\u001b[0m\n",
      "\u001b[1;31mOSError\u001b[0m: myfile.txt not found."
     ]
    }
   ],
   "source": [
    ">>> np.loadtxt(\"myfile.txt\")\n",
    ">>> np.genfromtxt(\"my_file.csv\", delimiter= ',')\n",
    ">>> np.savetxt( \"myarray.txt\", a, delimiter= \" \")"
   ]
  },
  {
   "cell_type": "markdown",
   "id": "67488b67-c7db-408c-a51c-e3bd3ed7f9c2",
   "metadata": {},
   "source": [
    "# Para recibir ayuda "
   ]
  },
  {
   "cell_type": "code",
   "execution_count": 14,
   "id": "5bdaed3d-1951-4a53-bdfe-d4131426e541",
   "metadata": {},
   "outputs": [
    {
     "name": "stdout",
     "output_type": "stream",
     "text": [
      "Data-type of the array's elements.\n",
      "\n",
      "Parameters\n",
      "----------\n",
      "None\n",
      "\n",
      "Returns\n",
      "-------\n",
      "d : numpy dtype object\n",
      "\n",
      "See Also\n",
      "--------\n",
      "numpy.dtype\n",
      "\n",
      "Examples\n",
      "--------\n",
      ">>> x\n",
      "array([[0, 1],\n",
      "       [2, 3]])\n",
      ">>> x.dtype\n",
      "dtype('int32')\n",
      ">>> type(x.dtype)\n",
      "<type 'numpy.dtype'>\n"
     ]
    }
   ],
   "source": [
    ">>> np.info(np.ndarray.dtype)"
   ]
  },
  {
   "cell_type": "markdown",
   "id": "12640a14-c336-46cd-ba87-9a384fa50350",
   "metadata": {},
   "source": [
    "# Para inspeccionar tu array "
   ]
  },
  {
   "cell_type": "code",
   "execution_count": 24,
   "id": "190c13d8-3c14-48ed-b8c4-25933a318cad",
   "metadata": {},
   "outputs": [
    {
     "data": {
      "text/plain": [
       "array([[1, 2, 3],\n",
       "       [4, 5, 6]])"
      ]
     },
     "execution_count": 24,
     "metadata": {},
     "output_type": "execute_result"
    }
   ],
   "source": [
    ">>> a.shape       #Array dimensions\n",
    ">>> len(a)        #Length of array\n",
    ">>> b.ndim        #Number of array dimensions\n",
    ">>> e.size        #Number of array elements\n",
    ">>> b.dtype       #Data type of array elements\n",
    ">>> b.dtype.name  #Name of data type\n",
    ">>> b.astype(int) #Convert an array to a different type"
   ]
  },
  {
   "cell_type": "markdown",
   "id": "ae470ba6-2ed9-4f69-8b79-276fd0135b6e",
   "metadata": {},
   "source": [
    "# Tipos de datos "
   ]
  },
  {
   "cell_type": "code",
   "execution_count": 41,
   "id": "24ead6df-8924-48be-b5fe-c459f19541a1",
   "metadata": {},
   "outputs": [
    {
     "name": "stderr",
     "output_type": "stream",
     "text": [
      "C:\\Users\\ADMIN\\AppData\\Local\\Temp/ipykernel_8580/4041577172.py:3: DeprecationWarning: `np.complex` is a deprecated alias for the builtin `complex`. To silence this warning, use `complex` by itself. Doing this will not modify any behavior and is safe. If you specifically wanted the numpy scalar type, use `np.complex128` here.\n",
      "Deprecated in NumPy 1.20; for more details and guidance: https://numpy.org/devdocs/release/1.20.0-notes.html#deprecations\n",
      "  np.complex  #Complex numbers represented by 128 floats\n",
      "C:\\Users\\ADMIN\\AppData\\Local\\Temp/ipykernel_8580/4041577172.py:4: DeprecationWarning: `np.bool` is a deprecated alias for the builtin `bool`. To silence this warning, use `bool` by itself. Doing this will not modify any behavior and is safe. If you specifically wanted the numpy scalar type, use `np.bool_` here.\n",
      "Deprecated in NumPy 1.20; for more details and guidance: https://numpy.org/devdocs/release/1.20.0-notes.html#deprecations\n",
      "  np.bool     #Boolean type storing TRUE and FALSE values\n",
      "C:\\Users\\ADMIN\\AppData\\Local\\Temp/ipykernel_8580/4041577172.py:5: DeprecationWarning: `np.object` is a deprecated alias for the builtin `object`. To silence this warning, use `object` by itself. Doing this will not modify any behavior and is safe. \n",
      "Deprecated in NumPy 1.20; for more details and guidance: https://numpy.org/devdocs/release/1.20.0-notes.html#deprecations\n",
      "  np.object   #Python object type\n"
     ]
    },
    {
     "data": {
      "text/plain": [
       "numpy.str_"
      ]
     },
     "execution_count": 41,
     "metadata": {},
     "output_type": "execute_result"
    }
   ],
   "source": [
    ">>> np.int64    #Signed 64-bit integer types\n",
    ">>> np.float32  #Standard double-precision floating point\n",
    ">>> np.complex  #Complex numbers represented by 128 floats\n",
    ">>> np.bool     #Boolean type storing TRUE and FALSE values\n",
    ">>> np.object   #Python object type\n",
    ">>> np.string_  #Fixed-length string type\n",
    ">>> np.unicode_ #Fixed-length unicode type"
   ]
  },
  {
   "cell_type": "markdown",
   "id": "6571ded1-3a17-4fd0-a87a-35206db49ee9",
   "metadata": {},
   "source": [
    "# Matematicas con arrays  \n",
    "\n",
    "## Operaciones aritmeticas "
   ]
  },
  {
   "cell_type": "code",
   "execution_count": 26,
   "id": "adebfba6-bf0f-4625-b28c-3f2e8ede7bc0",
   "metadata": {},
   "outputs": [
    {
     "ename": "SyntaxError",
     "evalue": "invalid syntax (Temp/ipykernel_8580/3438332517.py, line 1)",
     "output_type": "error",
     "traceback": [
      "\u001b[1;36m  File \u001b[1;32m\"C:\\Users\\ADMIN\\AppData\\Local\\Temp/ipykernel_8580/3438332517.py\"\u001b[1;36m, line \u001b[1;32m1\u001b[0m\n\u001b[1;33m    g = a - b. #Subtraction\u001b[0m\n\u001b[1;37m               ^\u001b[0m\n\u001b[1;31mSyntaxError\u001b[0m\u001b[1;31m:\u001b[0m invalid syntax\n"
     ]
    }
   ],
   "source": [
    ">>> g = a - b. #Subtraction\n",
    "   array([[-0.5,0. ,0.], [-3. , -3. , -3. ]])\n",
    "    \n",
    ">>> np.subtract(a,b) #Subtraction\n",
    "\n",
    ">>> b + a #Addition \n",
    "  array([[ 2.5, 4. , 6.],[5. ,7. ,9. ]])\n",
    "    \n",
    ">>> np.add(b,a) #Addition \n",
    "\n",
    ">>> a/b #Division \n",
    " array([[0.66666667,1. ,1.],[0.25 ,0.4 ,0.5 ]])\n",
    "    \n",
    ">>> np.divide(a,b) #Division\n",
    "\n",
    ">>> a * b #Multiplication \n",
    "  array([[1.5, 4. ,9.],[ 4. , 10. , 18. ]])\n",
    "    \n",
    ">>> np.multiply(a,b) #Multiplication \n",
    "\n",
    ">>> np.exp(b) #Exponentiation\n",
    "\n",
    ">>> np.sqrt(b) #Square root\n",
    "\n",
    ">>> np.sin(a)  #Print sines of an array\n",
    "\n",
    ">>> np.cos(b) #Elementwise cosine\n",
    "\n",
    ">>> np.log(a)#Elementwise natural logarithm\n",
    "\n",
    ">>> e.dot(f) #Dot product \n",
    " array([[7.,7.],[7.,7.]])"
   ]
  },
  {
   "cell_type": "markdown",
   "id": "4107b919-7c6a-4c11-b703-f8b922e4df9b",
   "metadata": {},
   "source": [
    "## Comparacion"
   ]
  },
  {
   "cell_type": "code",
   "execution_count": 27,
   "id": "4756fa8f-fada-4a44-a0e9-7b11a95f3cd2",
   "metadata": {},
   "outputs": [
    {
     "ename": "IndentationError",
     "evalue": "unexpected indent (Temp/ipykernel_8580/707785232.py, line 3)",
     "output_type": "error",
     "traceback": [
      "\u001b[1;36m  File \u001b[1;32m\"C:\\Users\\ADMIN\\AppData\\Local\\Temp/ipykernel_8580/707785232.py\"\u001b[1;36m, line \u001b[1;32m3\u001b[0m\n\u001b[1;33m    array([[False , True, True],\u001b[0m\n\u001b[1;37m    ^\u001b[0m\n\u001b[1;31mIndentationError\u001b[0m\u001b[1;31m:\u001b[0m unexpected indent\n"
     ]
    }
   ],
   "source": [
    ">>> a == b #Element-wise comparison\n",
    "\n",
    " array([[False , True, True],\n",
    "             [ False,False ,False ]], dtype=bool)\n",
    ">>> a< 2 #Elementwise comparison\n",
    "   array([True, False, False], dtype=bool)\n",
    ">>> np.array_equal(a, b) #Arraywise comparison"
   ]
  },
  {
   "cell_type": "markdown",
   "id": "67d3378f-4573-4b7c-82af-e341bf5b0cd3",
   "metadata": {},
   "source": [
    "## Funciones agregadas "
   ]
  },
  {
   "cell_type": "code",
   "execution_count": 28,
   "id": "df1ca2ee-6a58-4a5c-8af7-952a4cca53d2",
   "metadata": {},
   "outputs": [
    {
     "ename": "NameError",
     "evalue": "name 'no' is not defined",
     "output_type": "error",
     "traceback": [
      "\u001b[1;31m---------------------------------------------------------------------------\u001b[0m",
      "\u001b[1;31mNameError\u001b[0m                                 Traceback (most recent call last)",
      "\u001b[1;32m~\\AppData\\Local\\Temp/ipykernel_8580/3508399866.py\u001b[0m in \u001b[0;36m<module>\u001b[1;34m\u001b[0m\n\u001b[0;32m      6\u001b[0m \u001b[0mnp\u001b[0m\u001b[1;33m.\u001b[0m\u001b[0mmedian\u001b[0m\u001b[1;33m(\u001b[0m\u001b[0mb\u001b[0m\u001b[1;33m)\u001b[0m     \u001b[1;31m#Median\u001b[0m\u001b[1;33m\u001b[0m\u001b[1;33m\u001b[0m\u001b[0m\n\u001b[0;32m      7\u001b[0m \u001b[0mnp\u001b[0m\u001b[1;33m.\u001b[0m\u001b[0mcorrcoef\u001b[0m\u001b[1;33m(\u001b[0m\u001b[0ma\u001b[0m\u001b[1;33m)\u001b[0m   \u001b[1;31m#Correlation coefficient\u001b[0m\u001b[1;33m\u001b[0m\u001b[1;33m\u001b[0m\u001b[0m\n\u001b[1;32m----> 8\u001b[1;33m \u001b[0mno\u001b[0m\u001b[1;33m.\u001b[0m\u001b[0mstd\u001b[0m\u001b[1;33m(\u001b[0m\u001b[0mb\u001b[0m\u001b[1;33m)\u001b[0m        \u001b[1;31m#Standart coefficient\u001b[0m\u001b[1;33m\u001b[0m\u001b[1;33m\u001b[0m\u001b[0m\n\u001b[0m",
      "\u001b[1;31mNameError\u001b[0m: name 'no' is not defined"
     ]
    }
   ],
   "source": [
    ">>> a.sum()          #array wise sum\n",
    ">>> a.min()          #Array wise minimun value \n",
    ">>> b.max(axis=0)    #Maximun value of an array row \n",
    ">>> b.cumsum(axis=1) #Cumulative sum of the elements \n",
    ">>> a.mean()         #Mean \n",
    ">>> np.median(b)     #Median\n",
    ">>> np.corrcoef(a)   #Correlation coefficient\n",
    ">>> no.std(b)        #Standart coefficient "
   ]
  },
  {
   "cell_type": "markdown",
   "id": "6ea03b3e-a3d3-401c-8aa2-dd23dabb3b51",
   "metadata": {},
   "source": [
    "# Copiando arrays "
   ]
  },
  {
   "cell_type": "code",
   "execution_count": 29,
   "id": "e8685489-f3ad-4a52-89ae-d8e881d63e21",
   "metadata": {},
   "outputs": [
    {
     "ename": "SyntaxError",
     "evalue": "invalid syntax (Temp/ipykernel_8580/223290720.py, line 1)",
     "output_type": "error",
     "traceback": [
      "\u001b[1;36m  File \u001b[1;32m\"C:\\Users\\ADMIN\\AppData\\Local\\Temp/ipykernel_8580/223290720.py\"\u001b[1;36m, line \u001b[1;32m1\u001b[0m\n\u001b[1;33m    >>>h = a.view()#Create a view of the array with the same data\u001b[0m\n\u001b[1;37m    ^\u001b[0m\n\u001b[1;31mSyntaxError\u001b[0m\u001b[1;31m:\u001b[0m invalid syntax\n"
     ]
    }
   ],
   "source": [
    ">>>h = a.view()#Create a view of the array with the same data\n",
    ">>> np.copy(a) #Create a copy of the array\n",
    ">>>h = a.copy() #Create a deep copy of the array"
   ]
  },
  {
   "cell_type": "markdown",
   "id": "a4191fbe-8925-4f15-8738-0bc946faf9be",
   "metadata": {},
   "source": [
    "# Ordenando arrays "
   ]
  },
  {
   "cell_type": "code",
   "execution_count": 30,
   "id": "9987acd5-5643-426f-b35e-be6db6acc091",
   "metadata": {},
   "outputs": [],
   "source": [
    ">>> a.sort() #Sort an array\n",
    ">>> c.sort(axis=0) #Sort the elements of an array's axis"
   ]
  },
  {
   "cell_type": "markdown",
   "id": "6ac2f120-cb05-43b0-a6a9-8a82e4d49667",
   "metadata": {},
   "source": [
    "# Subconjunto, división, indexación \n",
    "\n",
    "## Subconjunto"
   ]
  },
  {
   "cell_type": "code",
   "execution_count": 31,
   "id": "484661ef-b35d-4100-90db-1e6b7959d080",
   "metadata": {},
   "outputs": [
    {
     "ename": "IndentationError",
     "evalue": "unexpected indent (Temp/ipykernel_8580/2061151445.py, line 2)",
     "output_type": "error",
     "traceback": [
      "\u001b[1;36m  File \u001b[1;32m\"C:\\Users\\ADMIN\\AppData\\Local\\Temp/ipykernel_8580/2061151445.py\"\u001b[1;36m, line \u001b[1;32m2\u001b[0m\n\u001b[1;33m    3\u001b[0m\n\u001b[1;37m    ^\u001b[0m\n\u001b[1;31mIndentationError\u001b[0m\u001b[1;31m:\u001b[0m unexpected indent\n"
     ]
    }
   ],
   "source": [
    ">>> a[2] #Select the element at the 2nd index\n",
    "  3\n",
    ">>> b[1,2] #Select the element at row 1 column 2(equivalent to b[1][2])\n",
    "  6.0"
   ]
  },
  {
   "cell_type": "markdown",
   "id": "714c7de0-fe2a-4860-9a55-5513e595a564",
   "metadata": {},
   "source": [
    "## División"
   ]
  },
  {
   "cell_type": "code",
   "execution_count": 33,
   "id": "3adf4113-8b76-462c-bb8f-99f31d8af86c",
   "metadata": {},
   "outputs": [
    {
     "ename": "IndentationError",
     "evalue": "unindent does not match any outer indentation level (<tokenize>, line 8)",
     "output_type": "error",
     "traceback": [
      "\u001b[1;36m  File \u001b[1;32m\"<tokenize>\"\u001b[1;36m, line \u001b[1;32m8\u001b[0m\n\u001b[1;33m    >>> c[1,...] #Same as[1,:,:]\u001b[0m\n\u001b[1;37m    ^\u001b[0m\n\u001b[1;31mIndentationError\u001b[0m\u001b[1;31m:\u001b[0m unindent does not match any outer indentation level\n"
     ]
    }
   ],
   "source": [
    ">>> a[0:2]#Select items at index 0 and 1\n",
    " array([1, 2])\n",
    ">>> b[0:2,1] #Select items at rows 0 and 1 in column 1\n",
    "  array([ 2.,5.])\n",
    ">>> b[:1] \n",
    "#Select all items at row0(equivalent to b[0:1, :])\n",
    "  array([[1.5, 2., 3.]])\n",
    " >>> c[1,...] #Same as[1,:,:]\n",
    " array([[[ 3., 2.,1.],[ 4.,5., 6.]]])\n",
    ">>> a[ : : -1] #Reversed array a array([3, 2, 1])"
   ]
  },
  {
   "cell_type": "markdown",
   "id": "3c9d0bde-ced8-43ec-ad7e-7e0cbb4eabd0",
   "metadata": {},
   "source": [
    "## Indexación booleana"
   ]
  },
  {
   "cell_type": "code",
   "execution_count": 34,
   "id": "c8accf7f-fd04-46f1-8276-f8b7230a275f",
   "metadata": {},
   "outputs": [
    {
     "ename": "IndentationError",
     "evalue": "unexpected indent (Temp/ipykernel_8580/4111062574.py, line 2)",
     "output_type": "error",
     "traceback": [
      "\u001b[1;36m  File \u001b[1;32m\"C:\\Users\\ADMIN\\AppData\\Local\\Temp/ipykernel_8580/4111062574.py\"\u001b[1;36m, line \u001b[1;32m2\u001b[0m\n\u001b[1;33m    array([1])\u001b[0m\n\u001b[1;37m    ^\u001b[0m\n\u001b[1;31mIndentationError\u001b[0m\u001b[1;31m:\u001b[0m unexpected indent\n"
     ]
    }
   ],
   "source": [
    ">>> a[a<2] #Select elements from a less than 2\n",
    " array([1])"
   ]
  },
  {
   "cell_type": "markdown",
   "id": "73bdbce5-e9e9-44e2-b58c-d46d293293fb",
   "metadata": {},
   "source": [
    "## Fancy Indexing \n",
    "### Allows us to use an array of indices to access multiple array elements at once. Fancy indexing can perform more advanced and efficient array operations, including conditional filtering, sorting, and so on"
   ]
  },
  {
   "cell_type": "code",
   "execution_count": 35,
   "id": "3463a139-3959-485c-b97a-99b9b332bd78",
   "metadata": {},
   "outputs": [
    {
     "ename": "IndentationError",
     "evalue": "unexpected indent (Temp/ipykernel_8580/3417755699.py, line 2)",
     "output_type": "error",
     "traceback": [
      "\u001b[1;36m  File \u001b[1;32m\"C:\\Users\\ADMIN\\AppData\\Local\\Temp/ipykernel_8580/3417755699.py\"\u001b[1;36m, line \u001b[1;32m2\u001b[0m\n\u001b[1;33m    array([ 4. , 2. , 6. ,1.5])\u001b[0m\n\u001b[1;37m    ^\u001b[0m\n\u001b[1;31mIndentationError\u001b[0m\u001b[1;31m:\u001b[0m unexpected indent\n"
     ]
    }
   ],
   "source": [
    ">>> b[[1,0,1, 0],[0,1, 2, 0]] #Select elements(1,0),(0,1),(1,2) and(0,0)\n",
    "  array([ 4. , 2. , 6. ,1.5])\n",
    ">>> b[[1,0,1, 0]][:,[0,1,2,0]] #Select a subset of the matrix’s rows and columns\n",
    " array([[ 4. ,5. , 6. , 4.],[1.5, 2. , 3. ,1.5],[ 4. ,5. , 6. , 4.],[1.5, 2. , 3. ,1.5]])\n",
    "\n"
   ]
  },
  {
   "cell_type": "markdown",
   "id": "c010a9dc-a58e-449e-a3b9-a79fb8edfb84",
   "metadata": {},
   "source": [
    "# Manipulacion de un array \n",
    "\n",
    "## Transposición"
   ]
  },
  {
   "cell_type": "code",
   "execution_count": 36,
   "id": "ee51bf21-0ae0-46b6-9960-e6ebd46ad74f",
   "metadata": {},
   "outputs": [
    {
     "data": {
      "text/plain": [
       "array([[1.5, 2. , 3. ],\n",
       "       [4. , 5. , 6. ]])"
      ]
     },
     "execution_count": 36,
     "metadata": {},
     "output_type": "execute_result"
    }
   ],
   "source": [
    ">>> i = np.transpose(b) #Permute array dimensions\n",
    ">>> i.T #Permute array dimensions"
   ]
  },
  {
   "cell_type": "markdown",
   "id": "ff2f8a37-3941-4dd6-80b7-4189f8b0695c",
   "metadata": {},
   "source": [
    "## Cambio de forma "
   ]
  },
  {
   "cell_type": "code",
   "execution_count": 37,
   "id": "3d1c1135-a6aa-4a94-987a-172283c091f8",
   "metadata": {},
   "outputs": [
    {
     "ename": "NameError",
     "evalue": "name 'g' is not defined",
     "output_type": "error",
     "traceback": [
      "\u001b[1;31m---------------------------------------------------------------------------\u001b[0m",
      "\u001b[1;31mNameError\u001b[0m                                 Traceback (most recent call last)",
      "\u001b[1;32m~\\AppData\\Local\\Temp/ipykernel_8580/4049916357.py\u001b[0m in \u001b[0;36m<module>\u001b[1;34m\u001b[0m\n\u001b[0;32m      1\u001b[0m \u001b[0mb\u001b[0m\u001b[1;33m.\u001b[0m\u001b[0mravel\u001b[0m\u001b[1;33m(\u001b[0m\u001b[1;33m)\u001b[0m \u001b[1;31m#Flatten the array\u001b[0m\u001b[1;33m\u001b[0m\u001b[1;33m\u001b[0m\u001b[0m\n\u001b[1;32m----> 2\u001b[1;33m \u001b[0mg\u001b[0m\u001b[1;33m.\u001b[0m\u001b[0mreshape\u001b[0m\u001b[1;33m(\u001b[0m\u001b[1;36m3\u001b[0m\u001b[1;33m,\u001b[0m \u001b[1;33m-\u001b[0m\u001b[1;36m2\u001b[0m\u001b[1;33m)\u001b[0m \u001b[1;31m#Reshape, but don’t change data\u001b[0m\u001b[1;33m\u001b[0m\u001b[1;33m\u001b[0m\u001b[0m\n\u001b[0m",
      "\u001b[1;31mNameError\u001b[0m: name 'g' is not defined"
     ]
    }
   ],
   "source": [
    ">>> b.ravel() #Flatten the array\n",
    ">>> g.reshape(3, -2) #Reshape, but don’t change data"
   ]
  },
  {
   "cell_type": "markdown",
   "id": "ccec6a9e-7b1d-40d5-a0be-3b718563b59a",
   "metadata": {},
   "source": [
    "## Adicionar/remover elementos "
   ]
  },
  {
   "cell_type": "code",
   "execution_count": 38,
   "id": "289e20fa-0ecb-4ff0-8628-791816b4bd57",
   "metadata": {},
   "outputs": [
    {
     "ename": "SyntaxError",
     "evalue": "invalid syntax (Temp/ipykernel_8580/3556016644.py, line 1)",
     "output_type": "error",
     "traceback": [
      "\u001b[1;36m  File \u001b[1;32m\"C:\\Users\\ADMIN\\AppData\\Local\\Temp/ipykernel_8580/3556016644.py\"\u001b[1;36m, line \u001b[1;32m1\u001b[0m\n\u001b[1;33m    >>>h.resize((2,6)) #Return a new arraywith shape(2,6)\u001b[0m\n\u001b[1;37m    ^\u001b[0m\n\u001b[1;31mSyntaxError\u001b[0m\u001b[1;31m:\u001b[0m invalid syntax\n"
     ]
    }
   ],
   "source": [
    ">>>h.resize((2,6)) #Return a new arraywith shape(2,6)\n",
    ">>> np.append(h,g) #Append items to an array\n",
    ">>> np.insert(a,1,5)  #Insert items in an array\n",
    ">>> np.delete(a,[1])  #Delete items from an array"
   ]
  },
  {
   "cell_type": "markdown",
   "id": "c0c17519-42ba-450f-bed5-6d40acc5df83",
   "metadata": {},
   "source": [
    "## Combinar arrays "
   ]
  },
  {
   "cell_type": "code",
   "execution_count": 39,
   "id": "57fa155e-1a28-46a5-8b77-e51b5516c8ce",
   "metadata": {},
   "outputs": [
    {
     "ename": "IndentationError",
     "evalue": "unexpected indent (Temp/ipykernel_8580/773828923.py, line 2)",
     "output_type": "error",
     "traceback": [
      "\u001b[1;36m  File \u001b[1;32m\"C:\\Users\\ADMIN\\AppData\\Local\\Temp/ipykernel_8580/773828923.py\"\u001b[1;36m, line \u001b[1;32m2\u001b[0m\n\u001b[1;33m    array([1, 2, 3, 10, 15, 20])\u001b[0m\n\u001b[1;37m    ^\u001b[0m\n\u001b[1;31mIndentationError\u001b[0m\u001b[1;31m:\u001b[0m unexpected indent\n"
     ]
    }
   ],
   "source": [
    ">>> np.concatenate((a,d),axis=0) #Concatenate arrays\n",
    " array([1, 2, 3, 10, 15, 20])\n",
    ">>> np.vstack((a,b) #Stack arrays vertically(row wise)\n",
    " array([[1. , 2. , 3.],[1.5, 2. , 3.],[ 4. ,5. , 6. ]])\n",
    ">>> np.r_[e,f] #Stack arrays vertically(row wise)\n",
    ">>> np.hstack((e,f)) #Stack arrays horizontally(column wise)\n",
    " array([[7.,7.,1.,0.],[7.,7.,0.,1.]])\n",
    ">>> np.column_stack((a,d)) #Create stacked column wise arrays\n",
    " array([[1, 10],[ 2, 15],[ 3, 20]])\n",
    ">>> np.c_[a,d] #Create stacked column wise arrays"
   ]
  },
  {
   "cell_type": "markdown",
   "id": "fa61b877-758f-4194-b72e-f3933accecb7",
   "metadata": {},
   "source": [
    "## Separar arrays "
   ]
  },
  {
   "cell_type": "code",
   "execution_count": 40,
   "id": "9e685fcd-15c1-4f7f-9a07-a80af6c759cb",
   "metadata": {},
   "outputs": [
    {
     "ename": "IndentationError",
     "evalue": "unexpected indent (Temp/ipykernel_8580/3914976814.py, line 2)",
     "output_type": "error",
     "traceback": [
      "\u001b[1;36m  File \u001b[1;32m\"C:\\Users\\ADMIN\\AppData\\Local\\Temp/ipykernel_8580/3914976814.py\"\u001b[1;36m, line \u001b[1;32m2\u001b[0m\n\u001b[1;33m    [array([1]),array([2]),array([3])]\u001b[0m\n\u001b[1;37m    ^\u001b[0m\n\u001b[1;31mIndentationError\u001b[0m\u001b[1;31m:\u001b[0m unexpected indent\n"
     ]
    }
   ],
   "source": [
    ">>> np.hsplit(a,3) #Split the array horizontally at the 3rd index\n",
    "  [array([1]),array([2]),array([3])]\n",
    ">>> np.vsplit(c,2) #Split the array vertically at the 2nd index\n",
    "  [array([[[ 1.5, 2. ,1.],[ 4. ,5. , 6. ]]]),\n",
    "   array([[[ 3., 2., 3.],[ 4.,5., 6.]]])]"
   ]
  }
 ],
 "metadata": {
  "kernelspec": {
   "display_name": "Python 3 (ipykernel)",
   "language": "python",
   "name": "python3"
  },
  "language_info": {
   "codemirror_mode": {
    "name": "ipython",
    "version": 3
   },
   "file_extension": ".py",
   "mimetype": "text/x-python",
   "name": "python",
   "nbconvert_exporter": "python",
   "pygments_lexer": "ipython3",
   "version": "3.9.7"
  }
 },
 "nbformat": 4,
 "nbformat_minor": 5
}
