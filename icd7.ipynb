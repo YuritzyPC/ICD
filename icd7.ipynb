{
 "cells": [
  {
   "cell_type": "markdown",
   "id": "3d98e2db-8519-4cd8-9f75-9e65331585a1",
   "metadata": {},
   "source": [
    "# Notebook ICD - 7"
   ]
  },
  {
   "cell_type": "markdown",
   "id": "7c2bea34-06dd-4b57-90da-dce66eeedabf",
   "metadata": {},
   "source": [
    "Install libraries via terminal"
   ]
  },
  {
   "cell_type": "code",
   "execution_count": 1,
   "id": "582ef0ff-9295-4337-89ee-764fe81c0f5d",
   "metadata": {},
   "outputs": [],
   "source": [
    "#pip install spacy\n",
    "#pip install nltk\n",
    "#pip install sklearn"
   ]
  },
  {
   "cell_type": "markdown",
   "id": "476a1956-9666-48c5-98a5-2cbb514c22ef",
   "metadata": {},
   "source": [
    "Importing necessary functions"
   ]
  },
  {
   "cell_type": "code",
   "execution_count": 2,
   "id": "1ce4c060-b967-4856-b7cf-b6ea32740ef9",
   "metadata": {},
   "outputs": [],
   "source": [
    "import pandas as pd\n",
    "import re\n",
    "import spacy as spc\n",
    "import nltk\n",
    "from nltk.corpus import stopwords\n",
    "from nltk.tokenize import word_tokenize\n",
    "from sklearn.feature_extraction.text import CountVectorizer\n",
    "import numpy as np # agrego para usar al final"
   ]
  },
  {
   "cell_type": "markdown",
   "id": "b04d0bc4-caab-43b2-b791-7a903f2a67f6",
   "metadata": {},
   "source": [
    "## Datos de entrada"
   ]
  },
  {
   "cell_type": "code",
   "execution_count": 3,
   "id": "73f38d8f-f3e8-4bae-8afe-b74fd140ae4b",
   "metadata": {},
   "outputs": [
    {
     "name": "stdout",
     "output_type": "stream",
     "text": [
      "Tres meses después de haberle arrebatado al PRI su bastión histórico, Delfina Gómez ha rendido protesta este jueves como nueva gobernadora del Estado de México, poniendo oficialmente fin a casi un siglo de Gobierno del partido tricolor. La nueva jefa del Ejecutivo se ha convertido también esta tarde en la primera mujer en ponerse al frente de este Estado, el más importante del país en términos de demografía y presupuesto. <Lo voy a decir muy claro y fuerte: el servidor público que no cumpla con rectitud e integridad su encomienda será removido y, en su caso, castigado con el peso de la ley. Ya basta de tanta corrupción. Se acabaron los negocios fraguados desde la oficina del Gobierno y las riquezas constituidas al amparo del Estado>, ha expresado contundente en la ceremonia celebrada este jueves. Al acto han asistido el presidente de la República, Andrés Manuel López Obrador; el hasta ahora gobernador, Alfredo del Mazo; y el presidente del Tribunal Superior de Justicia del Estado de México, Ernesto Sodi Cuellar. En su discurso, centrado en la transparencia y la lucha contra la corrupción, Delfina Gómez también ha tenido palabras de agradecimiento para el líder de Morena, que acaba de pasar el bastón de mando a su sucesora en el cargo, Claudia Sheimbaum. “Presidente: las y los mexiquenses valoramos lo que ha logrado en estos recientes años a favor del pueblo. Su legado será trascendente. Por esa misma vía transitará el Estado de México”, ha subrayado la exsecretaria de Educación, que hoy inaugura una nueva época marcada por el liderazgo femenino en el partido.\n",
      "La espera terminó: la Champions League, el torneo de fútbol más importante a nivel de clubes, está de vuelta con la edición 2023/2024.Si bien esta edición ya había iniciado con la fase preclasificatoria previa, ahora comienza la fase de grupos y, con ello, el camino de 32 equipos hacia el campeonato. La Champions League 2023/2024 es especial, entre otras cosas, por dos detalles: Se trata de la primera edición del torneo sin Cristiano Ronaldo en 21 años y la primera sin Lionel Messi en 19 años, luego de que ambos debutaran en la competición en 2002 y 2004, respectivamente. Es la última edición de la Champions con 32 equipos. El siguiente año, el torneo se disputará por 36 equipos. En la edición de este año, el grupo más complicado parece ser el F, en el que se enfrentarán el PSG, Borussia Dortmund, Milan y Newcastle. Sin embargo, en otros grupos también habrá enfrentamientos de mucho calibre, como en el A, donde destaca el partido Bayern Múnich vs. Manchester United; en el Grupo B, que tendrá el Real Madrid vs. Napoli; o el Sevilla vs. Arsenal del Grupo B.\n"
     ]
    }
   ],
   "source": [
    "# Texto 1\n",
    "oracion= \"Tres meses después de haberle arrebatado al PRI su bastión histórico, Delfina Gómez ha rendido protesta este jueves como nueva gobernadora del Estado de México, poniendo oficialmente fin a casi un siglo de Gobierno del partido tricolor. La nueva jefa del Ejecutivo se ha convertido también esta tarde en la primera mujer en ponerse al frente de este Estado, el más importante del país en términos de demografía y presupuesto. <Lo voy a decir muy claro y fuerte: el servidor público que no cumpla con rectitud e integridad su encomienda será removido y, en su caso, castigado con el peso de la ley. Ya basta de tanta corrupción. Se acabaron los negocios fraguados desde la oficina del Gobierno y las riquezas constituidas al amparo del Estado>, ha expresado contundente en la ceremonia celebrada este jueves. Al acto han asistido el presidente de la República, Andrés Manuel López Obrador; el hasta ahora gobernador, Alfredo del Mazo; y el presidente del Tribunal Superior de Justicia del Estado de México, Ernesto Sodi Cuellar. En su discurso, centrado en la transparencia y la lucha contra la corrupción, Delfina Gómez también ha tenido palabras de agradecimiento para el líder de Morena, que acaba de pasar el bastón de mando a su sucesora en el cargo, Claudia Sheimbaum. “Presidente: las y los mexiquenses valoramos lo que ha logrado en estos recientes años a favor del pueblo. Su legado será trascendente. Por esa misma vía transitará el Estado de México”, ha subrayado la exsecretaria de Educación, que hoy inaugura una nueva época marcada por el liderazgo femenino en el partido.\"\n",
    "# Texto 2\n",
    "oracion2= \"La espera terminó: la Champions League, el torneo de fútbol más importante a nivel de clubes, está de vuelta con la edición 2023/2024.Si bien esta edición ya había iniciado con la fase preclasificatoria previa, ahora comienza la fase de grupos y, con ello, el camino de 32 equipos hacia el campeonato. La Champions League 2023/2024 es especial, entre otras cosas, por dos detalles: Se trata de la primera edición del torneo sin Cristiano Ronaldo en 21 años y la primera sin Lionel Messi en 19 años, luego de que ambos debutaran en la competición en 2002 y 2004, respectivamente. Es la última edición de la Champions con 32 equipos. El siguiente año, el torneo se disputará por 36 equipos. En la edición de este año, el grupo más complicado parece ser el F, en el que se enfrentarán el PSG, Borussia Dortmund, Milan y Newcastle. Sin embargo, en otros grupos también habrá enfrentamientos de mucho calibre, como en el A, donde destaca el partido Bayern Múnich vs. Manchester United; en el Grupo B, que tendrá el Real Madrid vs. Napoli; o el Sevilla vs. Arsenal del Grupo B.\"\n",
    "#oracion = \"@Mar18blink Estoy buscando un producto genial por menos de 50. He encontrado muchos en https://t.co/FI1ShlDozc. ¿Qué opinas? Quiero comprarlo ya!!!\"\n",
    "print(oracion)\n",
    "print(oracion2)"
   ]
  },
  {
   "cell_type": "markdown",
   "id": "5ace6213-b9e5-4dde-80f8-cffede8fc3b7",
   "metadata": {},
   "source": [
    "## Procesamiento"
   ]
  },
  {
   "cell_type": "markdown",
   "id": "72533121-a276-4248-9cd1-71bfdc4ce66f",
   "metadata": {},
   "source": [
    "### Limpieza de datos"
   ]
  },
  {
   "cell_type": "code",
   "execution_count": 4,
   "id": "2afad44f-9233-4584-9e43-5cad07ef213e",
   "metadata": {},
   "outputs": [
    {
     "name": "stdout",
     "output_type": "stream",
     "text": [
      "tres meses después de haberle arrebatado al pri su bastión histórico delfina gómez ha rendido protesta este jueves como nueva gobernadora del estado de méxico poniendo oficialmente fin a casi un siglo de gobierno del partido tricolor la nueva jefa del ejecutivo se ha convertido también esta tarde en la primera mujer en ponerse al frente de este estado el más importante del país en términos de demografía y presupuesto <lo voy a decir muy claro y fuerte: el servidor público que no cumpla con rectitud e integridad su encomienda será removido y en su caso castigado con el peso de la ley ya basta de tanta corrupción se acabaron los negocios fraguados desde la oficina del gobierno y las riquezas constituidas al amparo del estado> ha expresado contundente en la ceremonia celebrada este jueves al acto han asistido el presidente de la república andrés manuel lópez obrador; el hasta ahora gobernador alfredo del mazo; y el presidente del tribunal superior de justicia del estado de méxico ernesto sodi cuellar en su discurso centrado en la transparencia y la lucha contra la corrupción delfina gómez también ha tenido palabras de agradecimiento para el líder de morena que acaba de pasar el bastón de mando a su sucesora en el cargo claudia sheimbaum “presidente: las y los mexiquenses valoramos lo que ha logrado en estos recientes años a favor del pueblo su legado será trascendente por esa misma vía transitará el estado de méxico” ha subrayado la exsecretaria de educación que hoy inaugura una nueva época marcada por el liderazgo femenino en el partido\n",
      "la espera terminó: la champions league el torneo de fútbol más importante a nivel de clubes está de vuelta con la edición /si bien esta edición ya había iniciado con la fase preclasificatoria previa ahora comienza la fase de grupos y con ello el camino de  equipos hacia el campeonato la champions league / es especial entre otras cosas por dos detalles: se trata de la primera edición del torneo sin cristiano ronaldo en  años y la primera sin lionel messi en  años luego de que ambos debutaran en la competición en  y  respectivamente es la última edición de la champions con  equipos el siguiente año el torneo se disputará por  equipos en la edición de este año el grupo más complicado parece ser el f en el que se enfrentarán el psg borussia dortmund milan y newcastle sin embargo en otros grupos también habrá enfrentamientos de mucho calibre como en el a donde destaca el partido bayern múnich vs manchester united; en el grupo b que tendrá el real madrid vs napoli; o el sevilla vs arsenal del grupo b\n"
     ]
    }
   ],
   "source": [
    "oracion = oracion.lower()\n",
    "oracion = re.sub(r\"@\\S+\", \"\", oracion)  # Eliminar menciones a usuarios\n",
    "oracion = re.sub(\"http[s]?\\://\\S+\", \"\", oracion)  # Eliminar enlaces\n",
    "oracion = re.sub(r\"#\\S+\", \"\", oracion)  # Eliminar hashtags\n",
    "oracion = re.sub(r\"[0-9]\", \"\", oracion)  # Eliminar números\n",
    "oracion = re.sub(r\"(\\(.*\\))|(\\[.*\\])\", \"\", oracion)  # Eliminar paréntesis y corchetes\n",
    "oracion = re.sub(r\"\\n\", \"\", oracion)  # Eliminar caracteres de nueva línea\n",
    "oracion = re.sub(r\"(http[s]?\\://\\S+)|([\\[\\(].*[\\)\\]])|([#@]\\S+)|\\n\", \"\", oracion)  # Eliminar varios patrones\n",
    "oracion = re.sub(r\"(\\.)|(,)\", \"\", oracion)  # Eliminar puntos y comas\n",
    "oracion = re.sub(r\"[¡!]\", \"\", oracion)  # Eliminar signos de admiración \n",
    "oracion = re.sub(r\"[¿?]\", \"\", oracion)  # Eliminar signos de exclamación\n",
    "print(oracion)\n",
    "\n",
    "oracion2 = oracion2.lower()\n",
    "oracion2 = re.sub(r\"@\\S+\", \"\", oracion2)  # Eliminar menciones a usuarios\n",
    "oracion2 = re.sub(\"http[s]?\\://\\S+\", \"\", oracion2)  # Eliminar enlaces\n",
    "oracion2 = re.sub(r\"#\\S+\", \"\", oracion2)  # Eliminar hashtags\n",
    "oracion2 = re.sub(r\"[0-9]\", \"\", oracion2)  # Eliminar números\n",
    "oracion2 = re.sub(r\"(\\(.*\\))|(\\[.*\\])\", \"\", oracion2)  # Eliminar paréntesis y corchetes\n",
    "oracion2 = re.sub(r\"\\n\", \"\", oracion2)  # Eliminar caracteres de nueva línea\n",
    "oracion2 = re.sub(r\"(http[s]?\\://\\S+)|([\\[\\(].*[\\)\\]])|([#@]\\S+)|\\n\", \"\", oracion2)  # Eliminar varios patrones\n",
    "oracion2 = re.sub(r\"(\\.)|(,)\", \"\", oracion2)  # Eliminar puntos y comas\n",
    "oracion2 = re.sub(r\"[¡!]\", \"\", oracion2)  # Eliminar signos de admiración \n",
    "oracion2 = re.sub(r\"[¿?]\", \"\", oracion2)  # Eliminar signos de exclamación\n",
    "print(oracion2)"
   ]
  },
  {
   "cell_type": "markdown",
   "id": "0da20449-7603-4d01-9866-6be0fbf0063c",
   "metadata": {},
   "source": [
    "### Tokenización"
   ]
  },
  {
   "cell_type": "code",
   "execution_count": 5,
   "id": "86a798d9-a52d-41bf-80b6-4d36808cee15",
   "metadata": {},
   "outputs": [
    {
     "name": "stdout",
     "output_type": "stream",
     "text": [
      "['tres', 'meses', 'después', 'de', 'haberle', 'arrebatado', 'al', 'pri', 'su', 'bastión', 'histórico', 'delfina', 'gómez', 'ha', 'rendido', 'protesta', 'este', 'jueves', 'como', 'nueva', 'gobernadora', 'del', 'estado', 'de', 'méxico', 'poniendo', 'oficialmente', 'fin', 'a', 'casi', 'un', 'siglo', 'de', 'gobierno', 'del', 'partido', 'tricolor', 'la', 'nueva', 'jefa', 'del', 'ejecutivo', 'se', 'ha', 'convertido', 'también', 'esta', 'tarde', 'en', 'la', 'primera', 'mujer', 'en', 'ponerse', 'al', 'frente', 'de', 'este', 'estado', 'el', 'más', 'importante', 'del', 'país', 'en', 'términos', 'de', 'demografía', 'y', 'presupuesto', '<', 'lo', 'voy', 'a', 'decir', 'muy', 'claro', 'y', 'fuerte', ':', 'el', 'servidor', 'público', 'que', 'no', 'cumpla', 'con', 'rectitud', 'e', 'integridad', 'su', 'encomienda', 'será', 'removido', 'y', 'en', 'su', 'caso', 'castigado', 'con', 'el', 'peso', 'de', 'la', 'ley', 'ya', 'basta', 'de', 'tanta', 'corrupción', 'se', 'acabaron', 'los', 'negocios', 'fraguados', 'desde', 'la', 'oficina', 'del', 'gobierno', 'y', 'las', 'riquezas', 'constituidas', 'al', 'amparo', 'del', 'estado', '>', 'ha', 'expresado', 'contundente', 'en', 'la', 'ceremonia', 'celebrada', 'este', 'jueves', 'al', 'acto', 'han', 'asistido', 'el', 'presidente', 'de', 'la', 'república', 'andrés', 'manuel', 'lópez', 'obrador', ';', 'el', 'hasta', 'ahora', 'gobernador', 'alfredo', 'del', 'mazo', ';', 'y', 'el', 'presidente', 'del', 'tribunal', 'superior', 'de', 'justicia', 'del', 'estado', 'de', 'méxico', 'ernesto', 'sodi', 'cuellar', 'en', 'su', 'discurso', 'centrado', 'en', 'la', 'transparencia', 'y', 'la', 'lucha', 'contra', 'la', 'corrupción', 'delfina', 'gómez', 'también', 'ha', 'tenido', 'palabras', 'de', 'agradecimiento', 'para', 'el', 'líder', 'de', 'morena', 'que', 'acaba', 'de', 'pasar', 'el', 'bastón', 'de', 'mando', 'a', 'su', 'sucesora', 'en', 'el', 'cargo', 'claudia', 'sheimbaum', '“', 'presidente', ':', 'las', 'y', 'los', 'mexiquenses', 'valoramos', 'lo', 'que', 'ha', 'logrado', 'en', 'estos', 'recientes', 'años', 'a', 'favor', 'del', 'pueblo', 'su', 'legado', 'será', 'trascendente', 'por', 'esa', 'misma', 'vía', 'transitará', 'el', 'estado', 'de', 'méxico', '”', 'ha', 'subrayado', 'la', 'exsecretaria', 'de', 'educación', 'que', 'hoy', 'inaugura', 'una', 'nueva', 'época', 'marcada', 'por', 'el', 'liderazgo', 'femenino', 'en', 'el', 'partido']\n",
      "['la', 'espera', 'terminó', ':', 'la', 'champions', 'league', 'el', 'torneo', 'de', 'fútbol', 'más', 'importante', 'a', 'nivel', 'de', 'clubes', 'está', 'de', 'vuelta', 'con', 'la', 'edición', '/si', 'bien', 'esta', 'edición', 'ya', 'había', 'iniciado', 'con', 'la', 'fase', 'preclasificatoria', 'previa', 'ahora', 'comienza', 'la', 'fase', 'de', 'grupos', 'y', 'con', 'ello', 'el', 'camino', 'de', 'equipos', 'hacia', 'el', 'campeonato', 'la', 'champions', 'league', '/', 'es', 'especial', 'entre', 'otras', 'cosas', 'por', 'dos', 'detalles', ':', 'se', 'trata', 'de', 'la', 'primera', 'edición', 'del', 'torneo', 'sin', 'cristiano', 'ronaldo', 'en', 'años', 'y', 'la', 'primera', 'sin', 'lionel', 'messi', 'en', 'años', 'luego', 'de', 'que', 'ambos', 'debutaran', 'en', 'la', 'competición', 'en', 'y', 'respectivamente', 'es', 'la', 'última', 'edición', 'de', 'la', 'champions', 'con', 'equipos', 'el', 'siguiente', 'año', 'el', 'torneo', 'se', 'disputará', 'por', 'equipos', 'en', 'la', 'edición', 'de', 'este', 'año', 'el', 'grupo', 'más', 'complicado', 'parece', 'ser', 'el', 'f', 'en', 'el', 'que', 'se', 'enfrentarán', 'el', 'psg', 'borussia', 'dortmund', 'milan', 'y', 'newcastle', 'sin', 'embargo', 'en', 'otros', 'grupos', 'también', 'habrá', 'enfrentamientos', 'de', 'mucho', 'calibre', 'como', 'en', 'el', 'a', 'donde', 'destaca', 'el', 'partido', 'bayern', 'múnich', 'vs', 'manchester', 'united', ';', 'en', 'el', 'grupo', 'b', 'que', 'tendrá', 'el', 'real', 'madrid', 'vs', 'napoli', ';', 'o', 'el', 'sevilla', 'vs', 'arsenal', 'del', 'grupo', 'b']\n"
     ]
    }
   ],
   "source": [
    "#nltk.download('punkt')\n",
    "tokens = word_tokenize(oracion)\n",
    "print(tokens)\n",
    "\n",
    "tokens2 = word_tokenize(oracion2)\n",
    "print(tokens2)"
   ]
  },
  {
   "cell_type": "markdown",
   "id": "ba33108d-855f-4898-a16d-82d8fd19ee4f",
   "metadata": {},
   "source": [
    "### Stopwords"
   ]
  },
  {
   "cell_type": "code",
   "execution_count": 6,
   "id": "a9990057-f614-463c-bc59-276163f9c16f",
   "metadata": {},
   "outputs": [
    {
     "name": "stdout",
     "output_type": "stream",
     "text": [
      "['tres', 'meses', 'después', 'haberle', 'arrebatado', 'pri', 'bastión', 'histórico', 'delfina', 'gómez', 'rendido', 'protesta', 'jueves', 'nueva', 'gobernadora', 'méxico', 'poniendo', 'oficialmente', 'fin', 'casi', 'siglo', 'gobierno', 'partido', 'tricolor', 'nueva', 'jefa', 'ejecutivo', 'convertido', 'tarde', 'primera', 'mujer', 'ponerse', 'frente', 'importante', 'país', 'términos', 'demografía', 'presupuesto', '<', 'voy', 'decir', 'claro', 'fuerte', ':', 'servidor', 'público', 'cumpla', 'rectitud', 'integridad', 'encomienda', 'removido', 'caso', 'castigado', 'peso', 'ley', 'basta', 'tanta', 'corrupción', 'acabaron', 'negocios', 'fraguados', 'oficina', 'gobierno', 'riquezas', 'constituidas', 'amparo', '>', 'expresado', 'contundente', 'ceremonia', 'celebrada', 'jueves', 'acto', 'asistido', 'presidente', 'república', 'andrés', 'manuel', 'lópez', 'obrador', ';', 'ahora', 'gobernador', 'alfredo', 'mazo', ';', 'presidente', 'tribunal', 'superior', 'justicia', 'méxico', 'ernesto', 'sodi', 'cuellar', 'discurso', 'centrado', 'transparencia', 'lucha', 'corrupción', 'delfina', 'gómez', 'palabras', 'agradecimiento', 'líder', 'morena', 'acaba', 'pasar', 'bastón', 'mando', 'sucesora', 'cargo', 'claudia', 'sheimbaum', '“', 'presidente', ':', 'mexiquenses', 'valoramos', 'logrado', 'recientes', 'años', 'favor', 'pueblo', 'legado', 'trascendente', 'misma', 'vía', 'transitará', 'méxico', '”', 'subrayado', 'exsecretaria', 'educación', 'hoy', 'inaugura', 'nueva', 'época', 'marcada', 'liderazgo', 'femenino', 'partido']\n",
      "['espera', 'terminó', ':', 'champions', 'league', 'torneo', 'fútbol', 'importante', 'nivel', 'clubes', 'vuelta', 'edición', '/si', 'bien', 'edición', 'iniciado', 'fase', 'preclasificatoria', 'previa', 'ahora', 'comienza', 'fase', 'grupos', 'ello', 'camino', 'equipos', 'hacia', 'campeonato', 'champions', 'league', '/', 'especial', 'cosas', 'dos', 'detalles', ':', 'trata', 'primera', 'edición', 'torneo', 'cristiano', 'ronaldo', 'años', 'primera', 'lionel', 'messi', 'años', 'luego', 'ambos', 'debutaran', 'competición', 'respectivamente', 'última', 'edición', 'champions', 'equipos', 'siguiente', 'año', 'torneo', 'disputará', 'equipos', 'edición', 'año', 'grupo', 'complicado', 'parece', 'ser', 'f', 'enfrentarán', 'psg', 'borussia', 'dortmund', 'milan', 'newcastle', 'embargo', 'grupos', 'enfrentamientos', 'calibre', 'destaca', 'partido', 'bayern', 'múnich', 'vs', 'manchester', 'united', ';', 'grupo', 'b', 'real', 'madrid', 'vs', 'napoli', ';', 'sevilla', 'vs', 'arsenal', 'grupo', 'b']\n"
     ]
    }
   ],
   "source": [
    "#nltk.download('stopwords')\n",
    "spanish_stopwords = stopwords.words('spanish')\n",
    "palabras_filtradas = [palabra for palabra in tokens if palabra not in spanish_stopwords]\n",
    "print(palabras_filtradas)\n",
    "palabras_filtradas2 = [palabra for palabra in tokens2 if palabra not in spanish_stopwords]\n",
    "print(palabras_filtradas2)"
   ]
  },
  {
   "cell_type": "markdown",
   "id": "bfd83dce-3bb0-4258-a752-3297c1fffa55",
   "metadata": {},
   "source": [
    "### Lematización"
   ]
  },
  {
   "cell_type": "code",
   "execution_count": 7,
   "id": "9854623a-2f73-46ec-8f1d-8cd14e31d670",
   "metadata": {},
   "outputs": [],
   "source": [
    "#sudo python3 -m spacy download es"
   ]
  },
  {
   "cell_type": "code",
   "execution_count": 8,
   "id": "8a78c030-5094-48a0-aa9c-dc63ff9bfddb",
   "metadata": {},
   "outputs": [
    {
     "name": "stdout",
     "output_type": "stream",
     "text": [
      "tres mes después haber él arrebatado pri bastión histórico delfina gómez rendido protesta jueves nuevo gobernadora méxico poner oficialmente fin casi siglo gobierno partido tricolor nuevo jefa ejecutivo convertido tarde primero mujer poner él frente importante país término demografíar presupuesto < ir decir claro fuerte : servidor público cumplir rectitud integridad encomiendo removido caso castigado peso ley bastar tanto corrupción acabar negocio fraguado oficinar gobierno riqueza constituido amparo > expresado contundente ceremonia celebrado jueves acto asistido presidente república andrés manuel lópez obrador ; ahora gobernador alfredo mazo ; presidente tribunal superior justicia méxico ernesto sodi cuellar discurso centrado transparencia lucho corrupción delfín gómez palabra agradecimiento líder morén acabar pasar bastón mando sucesoro cargo claudiar sheimbaum “ presidente : mexiquens valoramo lograr reciente año favor pueblo legado trascendente mismo vía transitacer méxico ” subrayado exsecretario educación hoy inaugurar nuevo época marcado liderazgo femenino partido\n",
      "esperar terminar : champions leagar torneo fútbol importante nivel clubes vuelto edición /si bien edición iniciado fase preclasificatorio previo ahora comenzar fase grupo él caminar equipo hacia campeonato champions league / especial cosa dos detalle : tratar primero edición torneo cristiano ronaldo años primero lionel messi año luego ambos debutarar competición respectivamente último edición champions equipo siguiente año torneo disputar equipo edición año grupo complicado parecer ser f enfrentar psg borussia dortmund milan newcastle embargo grupo enfrentamiento calibre destacar partido bayern múnich vs manchester united ; grupo b real madrid vs napoli ; sevilla vs arsenal grupo b\n"
     ]
    }
   ],
   "source": [
    "nlp = spc.load(\"es_core_news_sm\")\n",
    "lema = nlp(\" \".join(palabras_filtradas))\n",
    "oracion_lematizada = \" \".join([token.lemma_ for token in lema])\n",
    "print(oracion_lematizada)\n",
    "\n",
    "lema2 = nlp(\" \".join(palabras_filtradas2))\n",
    "oracion_lematizada2 = \" \".join([token.lemma_ for token in lema2])\n",
    "print(oracion_lematizada2)"
   ]
  },
  {
   "cell_type": "markdown",
   "id": "115d08ba-3bff-4982-8a0d-53e1b16209f4",
   "metadata": {},
   "source": [
    "## Bag of Words"
   ]
  },
  {
   "cell_type": "code",
   "execution_count": 9,
   "id": "2736fdd5-dde2-48d7-ad8d-01d1db87f66c",
   "metadata": {},
   "outputs": [],
   "source": [
    "vectorizador = CountVectorizer()\n",
    "vectores = vectorizador.fit_transform([oracion_lematizada])\n",
    "vocabulario = vectorizador.get_feature_names_out()\n",
    "\n",
    "vectorizador2 = CountVectorizer()\n",
    "vectores2 = vectorizador.fit_transform([oracion_lematizada2])\n",
    "vocabulario2 = vectorizador.get_feature_names_out()"
   ]
  },
  {
   "cell_type": "markdown",
   "id": "62c90384-68b0-460a-8cd3-82becb828de8",
   "metadata": {},
   "source": [
    "### Resultados"
   ]
  },
  {
   "cell_type": "code",
   "execution_count": 10,
   "id": "c71ef6ab-76b1-4e20-adbb-5dd1c25e1348",
   "metadata": {},
   "outputs": [
    {
     "name": "stdout",
     "output_type": "stream",
     "text": [
      "Oración de entrada: tres meses después de haberle arrebatado al pri su bastión histórico delfina gómez ha rendido protesta este jueves como nueva gobernadora del estado de méxico poniendo oficialmente fin a casi un siglo de gobierno del partido tricolor la nueva jefa del ejecutivo se ha convertido también esta tarde en la primera mujer en ponerse al frente de este estado el más importante del país en términos de demografía y presupuesto <lo voy a decir muy claro y fuerte: el servidor público que no cumpla con rectitud e integridad su encomienda será removido y en su caso castigado con el peso de la ley ya basta de tanta corrupción se acabaron los negocios fraguados desde la oficina del gobierno y las riquezas constituidas al amparo del estado> ha expresado contundente en la ceremonia celebrada este jueves al acto han asistido el presidente de la república andrés manuel lópez obrador; el hasta ahora gobernador alfredo del mazo; y el presidente del tribunal superior de justicia del estado de méxico ernesto sodi cuellar en su discurso centrado en la transparencia y la lucha contra la corrupción delfina gómez también ha tenido palabras de agradecimiento para el líder de morena que acaba de pasar el bastón de mando a su sucesora en el cargo claudia sheimbaum “presidente: las y los mexiquenses valoramos lo que ha logrado en estos recientes años a favor del pueblo su legado será trascendente por esa misma vía transitará el estado de méxico” ha subrayado la exsecretaria de educación que hoy inaugura una nueva época marcada por el liderazgo femenino en el partido\n",
      "Oración lematizada: tres mes después haber él arrebatado pri bastión histórico delfina gómez rendido protesta jueves nuevo gobernadora méxico poner oficialmente fin casi siglo gobierno partido tricolor nuevo jefa ejecutivo convertido tarde primero mujer poner él frente importante país término demografíar presupuesto < ir decir claro fuerte : servidor público cumplir rectitud integridad encomiendo removido caso castigado peso ley bastar tanto corrupción acabar negocio fraguado oficinar gobierno riqueza constituido amparo > expresado contundente ceremonia celebrado jueves acto asistido presidente república andrés manuel lópez obrador ; ahora gobernador alfredo mazo ; presidente tribunal superior justicia méxico ernesto sodi cuellar discurso centrado transparencia lucho corrupción delfín gómez palabra agradecimiento líder morén acabar pasar bastón mando sucesoro cargo claudiar sheimbaum “ presidente : mexiquens valoramo lograr reciente año favor pueblo legado trascendente mismo vía transitacer méxico ” subrayado exsecretario educación hoy inaugurar nuevo época marcado liderazgo femenino partido\n",
      "Vectores Bag of Words: [[2 1 1 1 1 1 1 1 1 1 1 1 1 1 1 1 1 1 1 1 1 1 1 1 1 2 1 1 1 1 1 1 1 1 1 1\n",
      "  1 1 1 1 1 1 1 1 1 1 1 1 2 2 1 1 1 1 1 1 1 1 2 1 1 1 1 1 1 1 1 1 1 1 1 1\n",
      "  1 1 1 1 3 1 3 1 1 1 1 2 1 1 1 2 3 1 1 1 1 1 1 1 1 1 1 1 1 1 1 1 1 1 1 1\n",
      "  1 1 1 1 1 1 1 1 1 1 1 2 1]]\n",
      "Vocabulario: ['acabar' 'acto' 'agradecimiento' 'ahora' 'alfredo' 'amparo' 'andrés'\n",
      " 'arrebatado' 'asistido' 'año' 'bastar' 'bastión' 'bastón' 'cargo' 'casi'\n",
      " 'caso' 'castigado' 'celebrado' 'centrado' 'ceremonia' 'claro' 'claudiar'\n",
      " 'constituido' 'contundente' 'convertido' 'corrupción' 'cuellar' 'cumplir'\n",
      " 'decir' 'delfina' 'delfín' 'demografíar' 'después' 'discurso' 'educación'\n",
      " 'ejecutivo' 'encomiendo' 'ernesto' 'expresado' 'exsecretario' 'favor'\n",
      " 'femenino' 'fin' 'fraguado' 'frente' 'fuerte' 'gobernador' 'gobernadora'\n",
      " 'gobierno' 'gómez' 'haber' 'histórico' 'hoy' 'importante' 'inaugurar'\n",
      " 'integridad' 'ir' 'jefa' 'jueves' 'justicia' 'legado' 'ley' 'liderazgo'\n",
      " 'lograr' 'lucho' 'líder' 'lópez' 'mando' 'manuel' 'marcado' 'mazo' 'mes'\n",
      " 'mexiquens' 'mismo' 'morén' 'mujer' 'méxico' 'negocio' 'nuevo' 'obrador'\n",
      " 'oficialmente' 'oficinar' 'palabra' 'partido' 'pasar' 'país' 'peso'\n",
      " 'poner' 'presidente' 'presupuesto' 'pri' 'primero' 'protesta' 'pueblo'\n",
      " 'público' 'reciente' 'rectitud' 'removido' 'rendido' 'república'\n",
      " 'riqueza' 'servidor' 'sheimbaum' 'siglo' 'sodi' 'subrayado' 'sucesoro'\n",
      " 'superior' 'tanto' 'tarde' 'transitacer' 'transparencia' 'trascendente'\n",
      " 'tres' 'tribunal' 'tricolor' 'término' 'valoramo' 'vía' 'él' 'época']\n",
      "Oración de entrada: la espera terminó: la champions league el torneo de fútbol más importante a nivel de clubes está de vuelta con la edición /si bien esta edición ya había iniciado con la fase preclasificatoria previa ahora comienza la fase de grupos y con ello el camino de  equipos hacia el campeonato la champions league / es especial entre otras cosas por dos detalles: se trata de la primera edición del torneo sin cristiano ronaldo en  años y la primera sin lionel messi en  años luego de que ambos debutaran en la competición en  y  respectivamente es la última edición de la champions con  equipos el siguiente año el torneo se disputará por  equipos en la edición de este año el grupo más complicado parece ser el f en el que se enfrentarán el psg borussia dortmund milan y newcastle sin embargo en otros grupos también habrá enfrentamientos de mucho calibre como en el a donde destaca el partido bayern múnich vs manchester united; en el grupo b que tendrá el real madrid vs napoli; o el sevilla vs arsenal del grupo b\n",
      "Oración lematizada: esperar terminar : champions leagar torneo fútbol importante nivel clubes vuelto edición /si bien edición iniciado fase preclasificatorio previo ahora comenzar fase grupo él caminar equipo hacia campeonato champions league / especial cosa dos detalle : tratar primero edición torneo cristiano ronaldo años primero lionel messi año luego ambos debutarar competición respectivamente último edición champions equipo siguiente año torneo disputar equipo edición año grupo complicado parecer ser f enfrentar psg borussia dortmund milan newcastle embargo grupo enfrentamiento calibre destacar partido bayern múnich vs manchester united ; grupo b real madrid vs napoli ; sevilla vs arsenal grupo b\n",
      "Vectores Bag of Words: [[1 1 1 3 1 1 1 1 1 1 1 3 1 1 1 1 1 1 1 1 1 1 1 1 5 1 1 1 3 1 1 2 1 5 1 1\n",
      "  1 1 1 1 1 1 1 1 1 1 1 1 1 1 1 1 1 2 1 1 1 1 1 1 1 1 1 3 1 1 3 1 1 1]]\n",
      "Vocabulario: ['ahora' 'ambos' 'arsenal' 'año' 'años' 'bayern' 'bien' 'borussia'\n",
      " 'calibre' 'caminar' 'campeonato' 'champions' 'clubes' 'comenzar'\n",
      " 'competición' 'complicado' 'cosa' 'cristiano' 'debutarar' 'destacar'\n",
      " 'detalle' 'disputar' 'dortmund' 'dos' 'edición' 'embargo'\n",
      " 'enfrentamiento' 'enfrentar' 'equipo' 'especial' 'esperar' 'fase'\n",
      " 'fútbol' 'grupo' 'hacia' 'importante' 'iniciado' 'leagar' 'league'\n",
      " 'lionel' 'luego' 'madrid' 'manchester' 'messi' 'milan' 'múnich' 'napoli'\n",
      " 'newcastle' 'nivel' 'parecer' 'partido' 'preclasificatorio' 'previo'\n",
      " 'primero' 'psg' 'real' 'respectivamente' 'ronaldo' 'ser' 'sevilla' 'si'\n",
      " 'siguiente' 'terminar' 'torneo' 'tratar' 'united' 'vs' 'vuelto' 'él'\n",
      " 'último']\n"
     ]
    }
   ],
   "source": [
    "print(\"Oración de entrada:\", oracion)\n",
    "print(\"Oración lematizada:\", oracion_lematizada)\n",
    "print(\"Vectores Bag of Words:\", vectores.toarray())\n",
    "print(\"Vocabulario:\", vocabulario)\n",
    "\n",
    "print(\"Oración de entrada:\", oracion2)\n",
    "print(\"Oración lematizada:\", oracion_lematizada2)\n",
    "print(\"Vectores Bag of Words:\", vectores2.toarray())\n",
    "print(\"Vocabulario:\", vocabulario2)"
   ]
  },
  {
   "cell_type": "markdown",
   "id": "248b9bcd-1d1c-443b-b06a-8551bdee0af7",
   "metadata": {},
   "source": [
    "### Construir Dataframe"
   ]
  },
  {
   "cell_type": "code",
   "execution_count": 14,
   "id": "0c552894-bc08-4397-8982-3cb8df82052d",
   "metadata": {},
   "outputs": [
    {
     "data": {
      "text/html": [
       "<div>\n",
       "<style scoped>\n",
       "    .dataframe tbody tr th:only-of-type {\n",
       "        vertical-align: middle;\n",
       "    }\n",
       "\n",
       "    .dataframe tbody tr th {\n",
       "        vertical-align: top;\n",
       "    }\n",
       "\n",
       "    .dataframe thead th {\n",
       "        text-align: right;\n",
       "    }\n",
       "</style>\n",
       "<table border=\"1\" class=\"dataframe\">\n",
       "  <thead>\n",
       "    <tr style=\"text-align: right;\">\n",
       "      <th></th>\n",
       "      <th>ahora</th>\n",
       "      <th>ambos</th>\n",
       "      <th>arsenal</th>\n",
       "      <th>año</th>\n",
       "      <th>años</th>\n",
       "      <th>bayern</th>\n",
       "      <th>bien</th>\n",
       "      <th>borussia</th>\n",
       "      <th>calibre</th>\n",
       "      <th>caminar</th>\n",
       "      <th>...</th>\n",
       "      <th>si</th>\n",
       "      <th>siguiente</th>\n",
       "      <th>terminar</th>\n",
       "      <th>torneo</th>\n",
       "      <th>tratar</th>\n",
       "      <th>united</th>\n",
       "      <th>vs</th>\n",
       "      <th>vuelto</th>\n",
       "      <th>él</th>\n",
       "      <th>último</th>\n",
       "    </tr>\n",
       "  </thead>\n",
       "  <tbody>\n",
       "    <tr>\n",
       "      <th>0</th>\n",
       "      <td>1</td>\n",
       "      <td>1</td>\n",
       "      <td>1</td>\n",
       "      <td>3</td>\n",
       "      <td>1</td>\n",
       "      <td>1</td>\n",
       "      <td>1</td>\n",
       "      <td>1</td>\n",
       "      <td>1</td>\n",
       "      <td>1</td>\n",
       "      <td>...</td>\n",
       "      <td>1</td>\n",
       "      <td>1</td>\n",
       "      <td>1</td>\n",
       "      <td>3</td>\n",
       "      <td>1</td>\n",
       "      <td>1</td>\n",
       "      <td>3</td>\n",
       "      <td>1</td>\n",
       "      <td>1</td>\n",
       "      <td>1</td>\n",
       "    </tr>\n",
       "  </tbody>\n",
       "</table>\n",
       "<p>1 rows × 70 columns</p>\n",
       "</div>"
      ],
      "text/plain": [
       "   ahora  ambos  arsenal  año  años  bayern  bien  borussia  calibre  caminar  \\\n",
       "0      1      1        1    3     1       1     1         1        1        1   \n",
       "\n",
       "   ...  si  siguiente  terminar  torneo  tratar  united  vs  vuelto  él  \\\n",
       "0  ...   1          1         1       3       1       1   3       1   1   \n",
       "\n",
       "   último  \n",
       "0       1  \n",
       "\n",
       "[1 rows x 70 columns]"
      ]
     },
     "execution_count": 14,
     "metadata": {},
     "output_type": "execute_result"
    }
   ],
   "source": [
    "df1 = pd.DataFrame.sparse.from_spmatrix(vectores,columns = vocabulario)\n",
    "df1.head()\n",
    "\n",
    "df2 = pd.DataFrame.sparse.from_spmatrix(vectores2,columns = vocabulario2)\n",
    "df2.head()"
   ]
  },
  {
   "cell_type": "markdown",
   "id": "10b4b104",
   "metadata": {},
   "source": [
    "### Unir DataFrame"
   ]
  },
  {
   "cell_type": "code",
   "execution_count": 16,
   "id": "cf9bf5f2",
   "metadata": {},
   "outputs": [
    {
     "data": {
      "text/html": [
       "<div>\n",
       "<style scoped>\n",
       "    .dataframe tbody tr th:only-of-type {\n",
       "        vertical-align: middle;\n",
       "    }\n",
       "\n",
       "    .dataframe tbody tr th {\n",
       "        vertical-align: top;\n",
       "    }\n",
       "\n",
       "    .dataframe thead th {\n",
       "        text-align: right;\n",
       "    }\n",
       "</style>\n",
       "<table border=\"1\" class=\"dataframe\">\n",
       "  <thead>\n",
       "    <tr style=\"text-align: right;\">\n",
       "      <th></th>\n",
       "      <th>acabar</th>\n",
       "      <th>acto</th>\n",
       "      <th>agradecimiento</th>\n",
       "      <th>ahora</th>\n",
       "      <th>alfredo</th>\n",
       "      <th>amparo</th>\n",
       "      <th>andrés</th>\n",
       "      <th>arrebatado</th>\n",
       "      <th>asistido</th>\n",
       "      <th>año</th>\n",
       "      <th>...</th>\n",
       "      <th>si</th>\n",
       "      <th>siguiente</th>\n",
       "      <th>terminar</th>\n",
       "      <th>torneo</th>\n",
       "      <th>tratar</th>\n",
       "      <th>united</th>\n",
       "      <th>vs</th>\n",
       "      <th>vuelto</th>\n",
       "      <th>último</th>\n",
       "      <th>Clase</th>\n",
       "    </tr>\n",
       "  </thead>\n",
       "  <tbody>\n",
       "    <tr>\n",
       "      <th>0</th>\n",
       "      <td>2.0</td>\n",
       "      <td>1.0</td>\n",
       "      <td>1.0</td>\n",
       "      <td>1</td>\n",
       "      <td>1.0</td>\n",
       "      <td>1.0</td>\n",
       "      <td>1.0</td>\n",
       "      <td>1.0</td>\n",
       "      <td>1.0</td>\n",
       "      <td>1</td>\n",
       "      <td>...</td>\n",
       "      <td>0.0</td>\n",
       "      <td>0.0</td>\n",
       "      <td>0.0</td>\n",
       "      <td>0.0</td>\n",
       "      <td>0.0</td>\n",
       "      <td>0.0</td>\n",
       "      <td>0.0</td>\n",
       "      <td>0.0</td>\n",
       "      <td>0.0</td>\n",
       "      <td>Político</td>\n",
       "    </tr>\n",
       "    <tr>\n",
       "      <th>0</th>\n",
       "      <td>0.0</td>\n",
       "      <td>0.0</td>\n",
       "      <td>0.0</td>\n",
       "      <td>1</td>\n",
       "      <td>0.0</td>\n",
       "      <td>0.0</td>\n",
       "      <td>0.0</td>\n",
       "      <td>0.0</td>\n",
       "      <td>0.0</td>\n",
       "      <td>3</td>\n",
       "      <td>...</td>\n",
       "      <td>1.0</td>\n",
       "      <td>1.0</td>\n",
       "      <td>1.0</td>\n",
       "      <td>3.0</td>\n",
       "      <td>1.0</td>\n",
       "      <td>1.0</td>\n",
       "      <td>3.0</td>\n",
       "      <td>1.0</td>\n",
       "      <td>1.0</td>\n",
       "      <td>Deportivo</td>\n",
       "    </tr>\n",
       "  </tbody>\n",
       "</table>\n",
       "<p>2 rows × 186 columns</p>\n",
       "</div>"
      ],
      "text/plain": [
       "   acabar  acto  agradecimiento  ahora  alfredo  amparo  andrés  arrebatado  \\\n",
       "0     2.0   1.0             1.0      1      1.0     1.0     1.0         1.0   \n",
       "0     0.0   0.0             0.0      1      0.0     0.0     0.0         0.0   \n",
       "\n",
       "   asistido  año  ...   si  siguiente  terminar  torneo  tratar  united   vs  \\\n",
       "0       1.0    1  ...  0.0        0.0       0.0     0.0     0.0     0.0  0.0   \n",
       "0       0.0    3  ...  1.0        1.0       1.0     3.0     1.0     1.0  3.0   \n",
       "\n",
       "   vuelto  último      Clase  \n",
       "0     0.0     0.0   Político  \n",
       "0     1.0     1.0  Deportivo  \n",
       "\n",
       "[2 rows x 186 columns]"
      ]
     },
     "execution_count": 16,
     "metadata": {},
     "output_type": "execute_result"
    }
   ],
   "source": [
    "bf_bw = pd.concat([df1,df2])\n",
    "bf_bw['Clase']=[\"Político\",\"Deportivo\"]\n",
    "bf_bw.fillna(0)"
   ]
  },
  {
   "cell_type": "markdown",
   "id": "f16dffb1",
   "metadata": {},
   "source": [
    "### Condiciones para saber que tipo de texto es:"
   ]
  },
  {
   "cell_type": "code",
   "execution_count": null,
   "id": "a62814a3",
   "metadata": {},
   "outputs": [],
   "source": [
    "terminos_politicos = [\n",
    "    \"gobierno\", \"política\", \"elección\", \"candidato\", \"gobernador\", \"amparo\",\"gobernadora\", \"justicia\"\n",
    "    \"legislatura\", \"presidente\", \"senado\", \"diputados\", \"ley\",\n",
    "    \"federal\", \"democracia\", \"ciudadanía\", \"discurso\",\n",
    "    \"corrupción\", \"reforma\", \"impuestos\",\"constitución\"\n",
    "]\n",
    "terminos_deportivos = [\n",
    "    \"deporte\", \"atleta\", \"entrenador\", \"equipo\", \"competicion\",\n",
    "    \"jugador\", \"campeonato\", \"estadio\", \"balón\", \"gol\", \"torneo\",\n",
    "    \"medalla\", \"olimpiadas\", \"arbitro\", \"campo\", \"carrera\",\n",
    "    \"gimnasio\", \"baloncesto\", \"fútbol\", \"tenis\", \"natación\"\n",
    "]\n",
    "\n",
    "encontro_politico = False\n",
    "encontro_deportivo = False\n",
    "\n",
    "# Verificar si las palabras en el vocabulario son términos políticos o deportivos\n",
    "for palabra in vocabulario:\n",
    "    contiene_politico = palabra in terminos_politicos\n",
    "    contiene_deportivo = palabra in terminos_deportivos\n",
    "\n",
    "    if contiene_politico:\n",
    "        encontro_politico = True\n",
    "    if contiene_deportivo:\n",
    "        encontro_deportivo = True\n",
    "\n",
    "# Imprimir el resultado al final del bucle\n",
    "if encontro_politico and encontro_deportivo:\n",
    "    print(\"El texto contiene términos políticos y deportivos.\")\n",
    "    a=0\n",
    "elif encontro_politico:\n",
    "    print(\"El texto es político.\")\n",
    "    a=1\n",
    "elif encontro_deportivo:\n",
    "    print(\"El texto es deportivo.\")\n",
    "    a=2\n",
    "else:\n",
    "    print(\"Categoría desconocida\")\n",
    "    a=0\n",
    "\n"
   ]
  },
  {
   "cell_type": "markdown",
   "id": "7ad97318",
   "metadata": {},
   "source": [
    "### Agregando como última columna el atributo clase"
   ]
  },
  {
   "cell_type": "code",
   "execution_count": null,
   "id": "dd1feb57",
   "metadata": {},
   "outputs": [],
   "source": [
    "df_bw['Clase'] = np.where(a == 1, 'Político', np.where(a == 2, 'Deportivo', 'No definido'))\n",
    "\n",
    "# Muestra las primeras filas del DataFrame actualizado\n",
    "print(df_bw.head())"
   ]
  },
  {
   "cell_type": "markdown",
   "id": "c51748ec",
   "metadata": {},
   "source": [
    "### Sí Funcionó :P"
   ]
  }
 ],
 "metadata": {
  "kernelspec": {
   "display_name": "Python 3 (ipykernel)",
   "language": "python",
   "name": "python3"
  },
  "language_info": {
   "codemirror_mode": {
    "name": "ipython",
    "version": 3
   },
   "file_extension": ".py",
   "mimetype": "text/x-python",
   "name": "python",
   "nbconvert_exporter": "python",
   "pygments_lexer": "ipython3",
   "version": "3.11.4"
  }
 },
 "nbformat": 4,
 "nbformat_minor": 5
}
