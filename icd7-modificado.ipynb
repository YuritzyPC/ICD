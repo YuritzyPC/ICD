{
 "cells": [
  {
   "cell_type": "markdown",
   "id": "3d98e2db-8519-4cd8-9f75-9e65331585a1",
   "metadata": {},
   "source": [
    "# Notebook ICD - 7"
   ]
  },
  {
   "cell_type": "markdown",
   "id": "7c2bea34-06dd-4b57-90da-dce66eeedabf",
   "metadata": {},
   "source": [
    "Install libraries via terminal"
   ]
  },
  {
   "cell_type": "code",
   "execution_count": 1,
   "id": "582ef0ff-9295-4337-89ee-764fe81c0f5d",
   "metadata": {},
   "outputs": [],
   "source": [
    "#pip install spacy\n",
    "#pip install nltk\n",
    "#pip install sklearn"
   ]
  },
  {
   "cell_type": "markdown",
   "id": "476a1956-9666-48c5-98a5-2cbb514c22ef",
   "metadata": {},
   "source": [
    "Importing necessary functions"
   ]
  },
  {
   "cell_type": "code",
   "execution_count": 2,
   "id": "1ce4c060-b967-4856-b7cf-b6ea32740ef9",
   "metadata": {},
   "outputs": [],
   "source": [
    "import pandas as pd\n",
    "import re\n",
    "import spacy as spc\n",
    "import nltk\n",
    "from nltk.corpus import stopwords\n",
    "from nltk.tokenize import word_tokenize\n",
    "from sklearn.feature_extraction.text import CountVectorizer\n",
    "import numpy as np # agrego para usar al final"
   ]
  },
  {
   "cell_type": "markdown",
   "id": "b04d0bc4-caab-43b2-b791-7a903f2a67f6",
   "metadata": {},
   "source": [
    "## Datos de entrada"
   ]
  },
  {
   "cell_type": "code",
   "execution_count": 3,
   "id": "73f38d8f-f3e8-4bae-8afe-b74fd140ae4b",
   "metadata": {},
   "outputs": [
    {
     "name": "stdout",
     "output_type": "stream",
     "text": [
      "La espera terminó: la Champions League, el torneo de fútbol más importante a nivel de clubes, está de vuelta con la edición 2023/2024.Si bien esta edición ya había iniciado con la fase preclasificatoria previa, ahora comienza la fase de grupos y, con ello, el camino de 32 equipos hacia el campeonato. La Champions League 2023/2024 es especial, entre otras cosas, por dos detalles: Se trata de la primera edición del torneo sin Cristiano Ronaldo en 21 años y la primera sin Lionel Messi en 19 años, luego de que ambos debutaran en la competición en 2002 y 2004, respectivamente. Es la última edición de la Champions con 32 equipos. El siguiente año, el torneo se disputará por 36 equipos. En la edición de este año, el grupo más complicado parece ser el F, en el que se enfrentarán el PSG, Borussia Dortmund, Milan y Newcastle. Sin embargo, en otros grupos también habrá enfrentamientos de mucho calibre, como en el A, donde destaca el partido Bayern Múnich vs. Manchester United; en el Grupo B, que tendrá el Real Madrid vs. Napoli; o el Sevilla vs. Arsenal del Grupo B.\n"
     ]
    }
   ],
   "source": [
    "# Texto 1\n",
    "#oracion= \"Tres meses después de haberle arrebatado al PRI su bastión histórico, Delfina Gómez ha rendido protesta este jueves como nueva gobernadora del Estado de México, poniendo oficialmente fin a casi un siglo de Gobierno del partido tricolor. La nueva jefa del Ejecutivo se ha convertido también esta tarde en la primera mujer en ponerse al frente de este Estado, el más importante del país en términos de demografía y presupuesto. <Lo voy a decir muy claro y fuerte: el servidor público que no cumpla con rectitud e integridad su encomienda será removido y, en su caso, castigado con el peso de la ley. Ya basta de tanta corrupción. Se acabaron los negocios fraguados desde la oficina del Gobierno y las riquezas constituidas al amparo del Estado>, ha expresado contundente en la ceremonia celebrada este jueves. Al acto han asistido el presidente de la República, Andrés Manuel López Obrador; el hasta ahora gobernador, Alfredo del Mazo; y el presidente del Tribunal Superior de Justicia del Estado de México, Ernesto Sodi Cuellar. En su discurso, centrado en la transparencia y la lucha contra la corrupción, Delfina Gómez también ha tenido palabras de agradecimiento para el líder de Morena, que acaba de pasar el bastón de mando a su sucesora en el cargo, Claudia Sheimbaum. “Presidente: las y los mexiquenses valoramos lo que ha logrado en estos recientes años a favor del pueblo. Su legado será trascendente. Por esa misma vía transitará el Estado de México”, ha subrayado la exsecretaria de Educación, que hoy inaugura una nueva época marcada por el liderazgo femenino en el partido.\"\n",
    "# Texto 2\n",
    "oracion= \"La espera terminó: la Champions League, el torneo de fútbol más importante a nivel de clubes, está de vuelta con la edición 2023/2024.Si bien esta edición ya había iniciado con la fase preclasificatoria previa, ahora comienza la fase de grupos y, con ello, el camino de 32 equipos hacia el campeonato. La Champions League 2023/2024 es especial, entre otras cosas, por dos detalles: Se trata de la primera edición del torneo sin Cristiano Ronaldo en 21 años y la primera sin Lionel Messi en 19 años, luego de que ambos debutaran en la competición en 2002 y 2004, respectivamente. Es la última edición de la Champions con 32 equipos. El siguiente año, el torneo se disputará por 36 equipos. En la edición de este año, el grupo más complicado parece ser el F, en el que se enfrentarán el PSG, Borussia Dortmund, Milan y Newcastle. Sin embargo, en otros grupos también habrá enfrentamientos de mucho calibre, como en el A, donde destaca el partido Bayern Múnich vs. Manchester United; en el Grupo B, que tendrá el Real Madrid vs. Napoli; o el Sevilla vs. Arsenal del Grupo B.\"\n",
    "#oracion = \"@Mar18blink Estoy buscando un producto genial por menos de 50. He encontrado muchos en https://t.co/FI1ShlDozc. ¿Qué opinas? Quiero comprarlo ya!!!\"\n",
    "print(oracion)"
   ]
  },
  {
   "cell_type": "markdown",
   "id": "5ace6213-b9e5-4dde-80f8-cffede8fc3b7",
   "metadata": {},
   "source": [
    "## Procesamiento"
   ]
  },
  {
   "cell_type": "markdown",
   "id": "72533121-a276-4248-9cd1-71bfdc4ce66f",
   "metadata": {},
   "source": [
    "### Limpieza de datos"
   ]
  },
  {
   "cell_type": "code",
   "execution_count": 4,
   "id": "2afad44f-9233-4584-9e43-5cad07ef213e",
   "metadata": {},
   "outputs": [
    {
     "name": "stdout",
     "output_type": "stream",
     "text": [
      "la espera terminó: la champions league el torneo de fútbol más importante a nivel de clubes está de vuelta con la edición /si bien esta edición ya había iniciado con la fase preclasificatoria previa ahora comienza la fase de grupos y con ello el camino de  equipos hacia el campeonato la champions league / es especial entre otras cosas por dos detalles: se trata de la primera edición del torneo sin cristiano ronaldo en  años y la primera sin lionel messi en  años luego de que ambos debutaran en la competición en  y  respectivamente es la última edición de la champions con  equipos el siguiente año el torneo se disputará por  equipos en la edición de este año el grupo más complicado parece ser el f en el que se enfrentarán el psg borussia dortmund milan y newcastle sin embargo en otros grupos también habrá enfrentamientos de mucho calibre como en el a donde destaca el partido bayern múnich vs manchester united; en el grupo b que tendrá el real madrid vs napoli; o el sevilla vs arsenal del grupo b\n"
     ]
    }
   ],
   "source": [
    "oracion = oracion.lower()\n",
    "oracion = re.sub(r\"@\\S+\", \"\", oracion)  # Eliminar menciones a usuarios\n",
    "oracion = re.sub(\"http[s]?\\://\\S+\", \"\", oracion)  # Eliminar enlaces\n",
    "oracion = re.sub(r\"#\\S+\", \"\", oracion)  # Eliminar hashtags\n",
    "oracion = re.sub(r\"[0-9]\", \"\", oracion)  # Eliminar números\n",
    "oracion = re.sub(r\"(\\(.*\\))|(\\[.*\\])\", \"\", oracion)  # Eliminar paréntesis y corchetes\n",
    "oracion = re.sub(r\"\\n\", \"\", oracion)  # Eliminar caracteres de nueva línea\n",
    "oracion = re.sub(r\"(http[s]?\\://\\S+)|([\\[\\(].*[\\)\\]])|([#@]\\S+)|\\n\", \"\", oracion)  # Eliminar varios patrones\n",
    "oracion = re.sub(r\"(\\.)|(,)\", \"\", oracion)  # Eliminar puntos y comas\n",
    "oracion = re.sub(r\"[¡!]\", \"\", oracion)  # Eliminar signos de admiración \n",
    "oracion = re.sub(r\"[¿?]\", \"\", oracion)  # Eliminar signos de exclamación\n",
    "print(oracion)"
   ]
  },
  {
   "cell_type": "markdown",
   "id": "0da20449-7603-4d01-9866-6be0fbf0063c",
   "metadata": {},
   "source": [
    "### Tokenización"
   ]
  },
  {
   "cell_type": "code",
   "execution_count": 5,
   "id": "86a798d9-a52d-41bf-80b6-4d36808cee15",
   "metadata": {},
   "outputs": [
    {
     "name": "stdout",
     "output_type": "stream",
     "text": [
      "['la', 'espera', 'terminó', ':', 'la', 'champions', 'league', 'el', 'torneo', 'de', 'fútbol', 'más', 'importante', 'a', 'nivel', 'de', 'clubes', 'está', 'de', 'vuelta', 'con', 'la', 'edición', '/si', 'bien', 'esta', 'edición', 'ya', 'había', 'iniciado', 'con', 'la', 'fase', 'preclasificatoria', 'previa', 'ahora', 'comienza', 'la', 'fase', 'de', 'grupos', 'y', 'con', 'ello', 'el', 'camino', 'de', 'equipos', 'hacia', 'el', 'campeonato', 'la', 'champions', 'league', '/', 'es', 'especial', 'entre', 'otras', 'cosas', 'por', 'dos', 'detalles', ':', 'se', 'trata', 'de', 'la', 'primera', 'edición', 'del', 'torneo', 'sin', 'cristiano', 'ronaldo', 'en', 'años', 'y', 'la', 'primera', 'sin', 'lionel', 'messi', 'en', 'años', 'luego', 'de', 'que', 'ambos', 'debutaran', 'en', 'la', 'competición', 'en', 'y', 'respectivamente', 'es', 'la', 'última', 'edición', 'de', 'la', 'champions', 'con', 'equipos', 'el', 'siguiente', 'año', 'el', 'torneo', 'se', 'disputará', 'por', 'equipos', 'en', 'la', 'edición', 'de', 'este', 'año', 'el', 'grupo', 'más', 'complicado', 'parece', 'ser', 'el', 'f', 'en', 'el', 'que', 'se', 'enfrentarán', 'el', 'psg', 'borussia', 'dortmund', 'milan', 'y', 'newcastle', 'sin', 'embargo', 'en', 'otros', 'grupos', 'también', 'habrá', 'enfrentamientos', 'de', 'mucho', 'calibre', 'como', 'en', 'el', 'a', 'donde', 'destaca', 'el', 'partido', 'bayern', 'múnich', 'vs', 'manchester', 'united', ';', 'en', 'el', 'grupo', 'b', 'que', 'tendrá', 'el', 'real', 'madrid', 'vs', 'napoli', ';', 'o', 'el', 'sevilla', 'vs', 'arsenal', 'del', 'grupo', 'b']\n"
     ]
    }
   ],
   "source": [
    "#nltk.download('punkt')\n",
    "tokens = word_tokenize(oracion)\n",
    "print(tokens)"
   ]
  },
  {
   "cell_type": "markdown",
   "id": "ba33108d-855f-4898-a16d-82d8fd19ee4f",
   "metadata": {},
   "source": [
    "### Stopwords"
   ]
  },
  {
   "cell_type": "code",
   "execution_count": 6,
   "id": "a9990057-f614-463c-bc59-276163f9c16f",
   "metadata": {},
   "outputs": [
    {
     "name": "stdout",
     "output_type": "stream",
     "text": [
      "['espera', 'terminó', ':', 'champions', 'league', 'torneo', 'fútbol', 'importante', 'nivel', 'clubes', 'vuelta', 'edición', '/si', 'bien', 'edición', 'iniciado', 'fase', 'preclasificatoria', 'previa', 'ahora', 'comienza', 'fase', 'grupos', 'ello', 'camino', 'equipos', 'hacia', 'campeonato', 'champions', 'league', '/', 'especial', 'cosas', 'dos', 'detalles', ':', 'trata', 'primera', 'edición', 'torneo', 'cristiano', 'ronaldo', 'años', 'primera', 'lionel', 'messi', 'años', 'luego', 'ambos', 'debutaran', 'competición', 'respectivamente', 'última', 'edición', 'champions', 'equipos', 'siguiente', 'año', 'torneo', 'disputará', 'equipos', 'edición', 'año', 'grupo', 'complicado', 'parece', 'ser', 'f', 'enfrentarán', 'psg', 'borussia', 'dortmund', 'milan', 'newcastle', 'embargo', 'grupos', 'enfrentamientos', 'calibre', 'destaca', 'partido', 'bayern', 'múnich', 'vs', 'manchester', 'united', ';', 'grupo', 'b', 'real', 'madrid', 'vs', 'napoli', ';', 'sevilla', 'vs', 'arsenal', 'grupo', 'b']\n"
     ]
    }
   ],
   "source": [
    "#nltk.download('stopwords')\n",
    "spanish_stopwords = stopwords.words('spanish')\n",
    "palabras_filtradas = [palabra for palabra in tokens if palabra not in spanish_stopwords]\n",
    "print(palabras_filtradas)"
   ]
  },
  {
   "cell_type": "markdown",
   "id": "bfd83dce-3bb0-4258-a752-3297c1fffa55",
   "metadata": {},
   "source": [
    "### Lematización"
   ]
  },
  {
   "cell_type": "code",
   "execution_count": 7,
   "id": "9854623a-2f73-46ec-8f1d-8cd14e31d670",
   "metadata": {},
   "outputs": [],
   "source": [
    "#sudo python3 -m spacy download es"
   ]
  },
  {
   "cell_type": "code",
   "execution_count": 8,
   "id": "8a78c030-5094-48a0-aa9c-dc63ff9bfddb",
   "metadata": {},
   "outputs": [
    {
     "name": "stdout",
     "output_type": "stream",
     "text": [
      "esperar terminar : champions leagar torneo fútbol importante nivel clubes vuelto edición /si bien edición iniciado fase preclasificatorio previo ahora comenzar fase grupo él caminar equipo hacia campeonato champions league / especial cosa dos detalle : tratar primero edición torneo cristiano ronaldo años primero lionel messi año luego ambos debutarar competición respectivamente último edición champions equipo siguiente año torneo disputar equipo edición año grupo complicado parecer ser f enfrentar psg borussia dortmund milan newcastle embargo grupo enfrentamiento calibre destacar partido bayern múnich vs manchester united ; grupo b real madrid vs napoli ; sevilla vs arsenal grupo b\n"
     ]
    }
   ],
   "source": [
    "nlp = spc.load(\"es_core_news_sm\")\n",
    "lema = nlp(\" \".join(palabras_filtradas))\n",
    "oracion_lematizada = \" \".join([token.lemma_ for token in lema])\n",
    "print(oracion_lematizada)"
   ]
  },
  {
   "cell_type": "markdown",
   "id": "115d08ba-3bff-4982-8a0d-53e1b16209f4",
   "metadata": {},
   "source": [
    "## Bag of Words"
   ]
  },
  {
   "cell_type": "code",
   "execution_count": 9,
   "id": "2736fdd5-dde2-48d7-ad8d-01d1db87f66c",
   "metadata": {},
   "outputs": [],
   "source": [
    "vectorizador = CountVectorizer()\n",
    "vectores = vectorizador.fit_transform([oracion_lematizada])\n",
    "vocabulario = vectorizador.get_feature_names_out()"
   ]
  },
  {
   "cell_type": "markdown",
   "id": "62c90384-68b0-460a-8cd3-82becb828de8",
   "metadata": {},
   "source": [
    "### Resultados"
   ]
  },
  {
   "cell_type": "code",
   "execution_count": 10,
   "id": "c71ef6ab-76b1-4e20-adbb-5dd1c25e1348",
   "metadata": {},
   "outputs": [
    {
     "name": "stdout",
     "output_type": "stream",
     "text": [
      "Oración de entrada: la espera terminó: la champions league el torneo de fútbol más importante a nivel de clubes está de vuelta con la edición /si bien esta edición ya había iniciado con la fase preclasificatoria previa ahora comienza la fase de grupos y con ello el camino de  equipos hacia el campeonato la champions league / es especial entre otras cosas por dos detalles: se trata de la primera edición del torneo sin cristiano ronaldo en  años y la primera sin lionel messi en  años luego de que ambos debutaran en la competición en  y  respectivamente es la última edición de la champions con  equipos el siguiente año el torneo se disputará por  equipos en la edición de este año el grupo más complicado parece ser el f en el que se enfrentarán el psg borussia dortmund milan y newcastle sin embargo en otros grupos también habrá enfrentamientos de mucho calibre como en el a donde destaca el partido bayern múnich vs manchester united; en el grupo b que tendrá el real madrid vs napoli; o el sevilla vs arsenal del grupo b\n",
      "Oración lematizada: esperar terminar : champions leagar torneo fútbol importante nivel clubes vuelto edición /si bien edición iniciado fase preclasificatorio previo ahora comenzar fase grupo él caminar equipo hacia campeonato champions league / especial cosa dos detalle : tratar primero edición torneo cristiano ronaldo años primero lionel messi año luego ambos debutarar competición respectivamente último edición champions equipo siguiente año torneo disputar equipo edición año grupo complicado parecer ser f enfrentar psg borussia dortmund milan newcastle embargo grupo enfrentamiento calibre destacar partido bayern múnich vs manchester united ; grupo b real madrid vs napoli ; sevilla vs arsenal grupo b\n",
      "Vectores Bag of Words: [[1 1 1 3 1 1 1 1 1 1 1 3 1 1 1 1 1 1 1 1 1 1 1 1 5 1 1 1 3 1 1 2 1 5 1 1\n",
      "  1 1 1 1 1 1 1 1 1 1 1 1 1 1 1 1 1 2 1 1 1 1 1 1 1 1 1 3 1 1 3 1 1 1]]\n",
      "Vocabulario: ['ahora' 'ambos' 'arsenal' 'año' 'años' 'bayern' 'bien' 'borussia'\n",
      " 'calibre' 'caminar' 'campeonato' 'champions' 'clubes' 'comenzar'\n",
      " 'competición' 'complicado' 'cosa' 'cristiano' 'debutarar' 'destacar'\n",
      " 'detalle' 'disputar' 'dortmund' 'dos' 'edición' 'embargo'\n",
      " 'enfrentamiento' 'enfrentar' 'equipo' 'especial' 'esperar' 'fase'\n",
      " 'fútbol' 'grupo' 'hacia' 'importante' 'iniciado' 'leagar' 'league'\n",
      " 'lionel' 'luego' 'madrid' 'manchester' 'messi' 'milan' 'múnich' 'napoli'\n",
      " 'newcastle' 'nivel' 'parecer' 'partido' 'preclasificatorio' 'previo'\n",
      " 'primero' 'psg' 'real' 'respectivamente' 'ronaldo' 'ser' 'sevilla' 'si'\n",
      " 'siguiente' 'terminar' 'torneo' 'tratar' 'united' 'vs' 'vuelto' 'él'\n",
      " 'último']\n"
     ]
    }
   ],
   "source": [
    "print(\"Oración de entrada:\", oracion)\n",
    "print(\"Oración lematizada:\", oracion_lematizada)\n",
    "print(\"Vectores Bag of Words:\", vectores.toarray())\n",
    "print(\"Vocabulario:\", vocabulario)"
   ]
  },
  {
   "cell_type": "markdown",
   "id": "248b9bcd-1d1c-443b-b06a-8551bdee0af7",
   "metadata": {},
   "source": [
    "### Construir Dataframe"
   ]
  },
  {
   "cell_type": "code",
   "execution_count": 11,
   "id": "0c552894-bc08-4397-8982-3cb8df82052d",
   "metadata": {},
   "outputs": [
    {
     "data": {
      "text/html": [
       "<div>\n",
       "<style scoped>\n",
       "    .dataframe tbody tr th:only-of-type {\n",
       "        vertical-align: middle;\n",
       "    }\n",
       "\n",
       "    .dataframe tbody tr th {\n",
       "        vertical-align: top;\n",
       "    }\n",
       "\n",
       "    .dataframe thead th {\n",
       "        text-align: right;\n",
       "    }\n",
       "</style>\n",
       "<table border=\"1\" class=\"dataframe\">\n",
       "  <thead>\n",
       "    <tr style=\"text-align: right;\">\n",
       "      <th></th>\n",
       "      <th>ahora</th>\n",
       "      <th>ambos</th>\n",
       "      <th>arsenal</th>\n",
       "      <th>año</th>\n",
       "      <th>años</th>\n",
       "      <th>bayern</th>\n",
       "      <th>bien</th>\n",
       "      <th>borussia</th>\n",
       "      <th>calibre</th>\n",
       "      <th>caminar</th>\n",
       "      <th>...</th>\n",
       "      <th>si</th>\n",
       "      <th>siguiente</th>\n",
       "      <th>terminar</th>\n",
       "      <th>torneo</th>\n",
       "      <th>tratar</th>\n",
       "      <th>united</th>\n",
       "      <th>vs</th>\n",
       "      <th>vuelto</th>\n",
       "      <th>él</th>\n",
       "      <th>último</th>\n",
       "    </tr>\n",
       "  </thead>\n",
       "  <tbody>\n",
       "    <tr>\n",
       "      <th>0</th>\n",
       "      <td>1</td>\n",
       "      <td>1</td>\n",
       "      <td>1</td>\n",
       "      <td>3</td>\n",
       "      <td>1</td>\n",
       "      <td>1</td>\n",
       "      <td>1</td>\n",
       "      <td>1</td>\n",
       "      <td>1</td>\n",
       "      <td>1</td>\n",
       "      <td>...</td>\n",
       "      <td>1</td>\n",
       "      <td>1</td>\n",
       "      <td>1</td>\n",
       "      <td>3</td>\n",
       "      <td>1</td>\n",
       "      <td>1</td>\n",
       "      <td>3</td>\n",
       "      <td>1</td>\n",
       "      <td>1</td>\n",
       "      <td>1</td>\n",
       "    </tr>\n",
       "  </tbody>\n",
       "</table>\n",
       "<p>1 rows × 70 columns</p>\n",
       "</div>"
      ],
      "text/plain": [
       "   ahora  ambos  arsenal  año  años  bayern  bien  borussia  calibre  caminar  \\\n",
       "0      1      1        1    3     1       1     1         1        1        1   \n",
       "\n",
       "   ...  si  siguiente  terminar  torneo  tratar  united  vs  vuelto  él  \\\n",
       "0  ...   1          1         1       3       1       1   3       1   1   \n",
       "\n",
       "   último  \n",
       "0       1  \n",
       "\n",
       "[1 rows x 70 columns]"
      ]
     },
     "execution_count": 11,
     "metadata": {},
     "output_type": "execute_result"
    }
   ],
   "source": [
    "df_bw = pd.DataFrame.sparse.from_spmatrix(vectores,columns = vocabulario)\n",
    "df_bw.head()"
   ]
  },
  {
   "cell_type": "markdown",
   "id": "f16dffb1",
   "metadata": {},
   "source": [
    "### Condiciones para saber que tipo de texto es:"
   ]
  },
  {
   "cell_type": "code",
   "execution_count": 14,
   "id": "a62814a3",
   "metadata": {},
   "outputs": [
    {
     "name": "stdout",
     "output_type": "stream",
     "text": [
      "El texto es deportivo.\n"
     ]
    }
   ],
   "source": [
    "terminos_politicos = [\n",
    "    \"gobierno\", \"política\", \"elección\", \"candidato\", \"gobernador\", \"amparo\",\"gobernadora\", \"justicia\"\n",
    "    \"legislatura\", \"presidente\", \"senado\", \"diputados\", \"ley\",\n",
    "    \"federal\", \"democracia\", \"ciudadanía\", \"discurso\",\n",
    "    \"corrupción\", \"reforma\", \"impuestos\",\"constitución\"\n",
    "]\n",
    "terminos_deportivos = [\n",
    "    \"deporte\", \"atleta\", \"entrenador\", \"equipo\", \"competicion\",\n",
    "    \"jugador\", \"campeonato\", \"estadio\", \"balón\", \"gol\", \"torneo\",\n",
    "    \"medalla\", \"olimpiadas\", \"arbitro\", \"campo\", \"carrera\",\n",
    "    \"gimnasio\", \"baloncesto\", \"fútbol\", \"tenis\", \"natación\"\n",
    "]\n",
    "\n",
    "encontro_politico = False\n",
    "encontro_deportivo = False\n",
    "\n",
    "# Verificar si las palabras en el vocabulario son términos políticos o deportivos\n",
    "for palabra in vocabulario:\n",
    "    contiene_politico = palabra in terminos_politicos\n",
    "    contiene_deportivo = palabra in terminos_deportivos\n",
    "\n",
    "    if contiene_politico:\n",
    "        encontro_politico = True\n",
    "    if contiene_deportivo:\n",
    "        encontro_deportivo = True\n",
    "\n",
    "# Imprimir el resultado al final del bucle\n",
    "if encontro_politico and encontro_deportivo:\n",
    "    print(\"El texto contiene términos políticos y deportivos.\")\n",
    "    a=0\n",
    "elif encontro_politico:\n",
    "    print(\"El texto es político.\")\n",
    "    a=1\n",
    "elif encontro_deportivo:\n",
    "    print(\"El texto es deportivo.\")\n",
    "    a=2\n",
    "else:\n",
    "    print(\"Categoría desconocida\")\n",
    "    a=0\n",
    "\n"
   ]
  },
  {
   "cell_type": "markdown",
   "id": "7ad97318",
   "metadata": {},
   "source": [
    "### Agregando como última columna el atributo clase"
   ]
  },
  {
   "cell_type": "code",
   "execution_count": 15,
   "id": "dd1feb57",
   "metadata": {},
   "outputs": [
    {
     "name": "stdout",
     "output_type": "stream",
     "text": [
      "   ahora  ambos  arsenal  año  años  bayern  bien  borussia  calibre  caminar  \\\n",
      "0      1      1        1    3     1       1     1         1        1        1   \n",
      "\n",
      "   ...  siguiente  terminar  torneo  tratar  united  vs  vuelto  él  último  \\\n",
      "0  ...          1         1       3       1       1   3       1   1       1   \n",
      "\n",
      "       Clase  \n",
      "0  Deportivo  \n",
      "\n",
      "[1 rows x 71 columns]\n"
     ]
    }
   ],
   "source": [
    "df_bw['Clase'] = np.where(a == 1, 'Político', np.where(a == 2, 'Deportivo', 'No definido'))\n",
    "\n",
    "# Muestra las primeras filas del DataFrame actualizado\n",
    "print(df_bw.head())"
   ]
  },
  {
   "cell_type": "markdown",
   "id": "c51748ec",
   "metadata": {},
   "source": [
    "### Sí Funcionó :P"
   ]
  }
 ],
 "metadata": {
  "kernelspec": {
   "display_name": "Python 3 (ipykernel)",
   "language": "python",
   "name": "python3"
  },
  "language_info": {
   "codemirror_mode": {
    "name": "ipython",
    "version": 3
   },
   "file_extension": ".py",
   "mimetype": "text/x-python",
   "name": "python",
   "nbconvert_exporter": "python",
   "pygments_lexer": "ipython3",
   "version": "3.11.4"
  }
 },
 "nbformat": 4,
 "nbformat_minor": 5
}
